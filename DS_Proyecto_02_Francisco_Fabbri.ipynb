{
 "cells": [
  {
   "cell_type": "markdown",
   "metadata": {},
   "source": [
    "# Proyecto 2: Ingeniería de features, Modelos avanzados e Interpretación de modelos"
   ]
  },
  {
   "cell_type": "markdown",
   "metadata": {},
   "source": [
    "Trabajaremos con el dataset de Properati, según indicado en la consigna:"
   ]
  },
  {
   "cell_type": "markdown",
   "metadata": {},
   "source": [
    "1°- Importo las librerías necesarias para comenzar:"
   ]
  },
  {
   "cell_type": "code",
   "execution_count": 2,
   "metadata": {},
   "outputs": [],
   "source": [
    "class color:\n",
    "   PURPLE = '\\033[95m'\n",
    "   CYAN = '\\033[96m'\n",
    "   DARKCYAN = '\\033[36m'\n",
    "   BLUE = '\\033[94m'\n",
    "   GREEN = '\\033[92m'\n",
    "   YELLOW = '\\033[93m'\n",
    "   RED = '\\033[91m'\n",
    "   BOLD = '\\033[1m'\n",
    "   UNDERLINE = '\\033[4m'\n",
    "   END = '\\033[0m'\n",
    "\n",
    "import numpy as np\n",
    "import pandas as pd\n",
    "import matplotlib.pyplot as plt\n",
    "import seaborn as sns"
   ]
  },
  {
   "cell_type": "markdown",
   "metadata": {},
   "source": [
    "2° - Importo el dataset de Properati:"
   ]
  },
  {
   "cell_type": "code",
   "execution_count": 3,
   "metadata": {},
   "outputs": [
    {
     "data": {
      "text/html": [
       "<div>\n",
       "<style scoped>\n",
       "    .dataframe tbody tr th:only-of-type {\n",
       "        vertical-align: middle;\n",
       "    }\n",
       "\n",
       "    .dataframe tbody tr th {\n",
       "        vertical-align: top;\n",
       "    }\n",
       "\n",
       "    .dataframe thead th {\n",
       "        text-align: right;\n",
       "    }\n",
       "</style>\n",
       "<table border=\"1\" class=\"dataframe\">\n",
       "  <thead>\n",
       "    <tr style=\"text-align: right;\">\n",
       "      <th></th>\n",
       "      <th>start_date</th>\n",
       "      <th>end_date</th>\n",
       "      <th>created_on</th>\n",
       "      <th>lat</th>\n",
       "      <th>lon</th>\n",
       "      <th>l1</th>\n",
       "      <th>l2</th>\n",
       "      <th>l3</th>\n",
       "      <th>rooms</th>\n",
       "      <th>bedrooms</th>\n",
       "      <th>bathrooms</th>\n",
       "      <th>surface_total</th>\n",
       "      <th>surface_covered</th>\n",
       "      <th>price</th>\n",
       "      <th>currency</th>\n",
       "      <th>title</th>\n",
       "      <th>description</th>\n",
       "      <th>property_type</th>\n",
       "      <th>operation_type</th>\n",
       "    </tr>\n",
       "  </thead>\n",
       "  <tbody>\n",
       "    <tr>\n",
       "      <th>0</th>\n",
       "      <td>2019-10-17</td>\n",
       "      <td>2019-12-23</td>\n",
       "      <td>2019-10-17</td>\n",
       "      <td>-34.605880</td>\n",
       "      <td>-58.384949</td>\n",
       "      <td>Argentina</td>\n",
       "      <td>Capital Federal</td>\n",
       "      <td>San Cristobal</td>\n",
       "      <td>7.0</td>\n",
       "      <td>7.0</td>\n",
       "      <td>2.0</td>\n",
       "      <td>140.0</td>\n",
       "      <td>140.0</td>\n",
       "      <td>153000.0</td>\n",
       "      <td>USD</td>\n",
       "      <td>***Venta semipiso centro, ideal hostel*****</td>\n",
       "      <td>DESCRIPCION DE LA PROPIEDAD: Departamento de 1...</td>\n",
       "      <td>Departamento</td>\n",
       "      <td>Venta</td>\n",
       "    </tr>\n",
       "    <tr>\n",
       "      <th>1</th>\n",
       "      <td>2019-10-17</td>\n",
       "      <td>2019-11-21</td>\n",
       "      <td>2019-10-17</td>\n",
       "      <td>-34.624056</td>\n",
       "      <td>-58.412110</td>\n",
       "      <td>Argentina</td>\n",
       "      <td>Capital Federal</td>\n",
       "      <td>Boedo</td>\n",
       "      <td>2.0</td>\n",
       "      <td>1.0</td>\n",
       "      <td>2.0</td>\n",
       "      <td>70.0</td>\n",
       "      <td>58.0</td>\n",
       "      <td>159000.0</td>\n",
       "      <td>USD</td>\n",
       "      <td>Espectacular PH reciclado en Boedo sin expensas.</td>\n",
       "      <td>PH reciclado en Boedo a una cuadra de la plaz...</td>\n",
       "      <td>PH</td>\n",
       "      <td>Venta</td>\n",
       "    </tr>\n",
       "    <tr>\n",
       "      <th>2</th>\n",
       "      <td>2019-10-17</td>\n",
       "      <td>2019-11-01</td>\n",
       "      <td>2019-10-17</td>\n",
       "      <td>-34.593569</td>\n",
       "      <td>-58.427474</td>\n",
       "      <td>Argentina</td>\n",
       "      <td>Capital Federal</td>\n",
       "      <td>Palermo</td>\n",
       "      <td>2.0</td>\n",
       "      <td>1.0</td>\n",
       "      <td>1.0</td>\n",
       "      <td>45.0</td>\n",
       "      <td>45.0</td>\n",
       "      <td>125000.0</td>\n",
       "      <td>USD</td>\n",
       "      <td>Depto.tipo casa de 2 ambientes en Venta en Pal...</td>\n",
       "      <td>2 ambienets amplio , excelente estado , patio ...</td>\n",
       "      <td>PH</td>\n",
       "      <td>Venta</td>\n",
       "    </tr>\n",
       "    <tr>\n",
       "      <th>3</th>\n",
       "      <td>2019-10-17</td>\n",
       "      <td>2019-12-23</td>\n",
       "      <td>2019-10-17</td>\n",
       "      <td>-34.581294</td>\n",
       "      <td>-58.436754</td>\n",
       "      <td>Argentina</td>\n",
       "      <td>Capital Federal</td>\n",
       "      <td>Palermo</td>\n",
       "      <td>2.0</td>\n",
       "      <td>1.0</td>\n",
       "      <td>1.0</td>\n",
       "      <td>85.0</td>\n",
       "      <td>50.0</td>\n",
       "      <td>295000.0</td>\n",
       "      <td>USD</td>\n",
       "      <td>COSTA RICA 5800 / PALERMO HOLLYWOOD / VENTA PH...</td>\n",
       "      <td>HERMOSO PH EN PALERMO!!!2 AMBIENTES TOTALMENTE...</td>\n",
       "      <td>PH</td>\n",
       "      <td>Venta</td>\n",
       "    </tr>\n",
       "    <tr>\n",
       "      <th>4</th>\n",
       "      <td>2019-10-17</td>\n",
       "      <td>2020-03-11</td>\n",
       "      <td>2019-10-17</td>\n",
       "      <td>-34.914194</td>\n",
       "      <td>-57.938219</td>\n",
       "      <td>Argentina</td>\n",
       "      <td>Bs.As. G.B.A. Zona Sur</td>\n",
       "      <td>La Plata</td>\n",
       "      <td>2.0</td>\n",
       "      <td>1.0</td>\n",
       "      <td>1.0</td>\n",
       "      <td>50.0</td>\n",
       "      <td>35.0</td>\n",
       "      <td>40000.0</td>\n",
       "      <td>USD</td>\n",
       "      <td>58 entre 1 y 2  Venta de departamento en ph.1 ...</td>\n",
       "      <td>58 entre 1 y 2  Venta de departamento en PH. P...</td>\n",
       "      <td>PH</td>\n",
       "      <td>Venta</td>\n",
       "    </tr>\n",
       "  </tbody>\n",
       "</table>\n",
       "</div>"
      ],
      "text/plain": [
       "   start_date    end_date  created_on        lat        lon         l1  \\\n",
       "0  2019-10-17  2019-12-23  2019-10-17 -34.605880 -58.384949  Argentina   \n",
       "1  2019-10-17  2019-11-21  2019-10-17 -34.624056 -58.412110  Argentina   \n",
       "2  2019-10-17  2019-11-01  2019-10-17 -34.593569 -58.427474  Argentina   \n",
       "3  2019-10-17  2019-12-23  2019-10-17 -34.581294 -58.436754  Argentina   \n",
       "4  2019-10-17  2020-03-11  2019-10-17 -34.914194 -57.938219  Argentina   \n",
       "\n",
       "                       l2             l3  rooms  bedrooms  bathrooms  \\\n",
       "0         Capital Federal  San Cristobal    7.0       7.0        2.0   \n",
       "1         Capital Federal          Boedo    2.0       1.0        2.0   \n",
       "2         Capital Federal        Palermo    2.0       1.0        1.0   \n",
       "3         Capital Federal        Palermo    2.0       1.0        1.0   \n",
       "4  Bs.As. G.B.A. Zona Sur       La Plata    2.0       1.0        1.0   \n",
       "\n",
       "   surface_total  surface_covered     price currency  \\\n",
       "0          140.0            140.0  153000.0      USD   \n",
       "1           70.0             58.0  159000.0      USD   \n",
       "2           45.0             45.0  125000.0      USD   \n",
       "3           85.0             50.0  295000.0      USD   \n",
       "4           50.0             35.0   40000.0      USD   \n",
       "\n",
       "                                               title  \\\n",
       "0        ***Venta semipiso centro, ideal hostel*****   \n",
       "1   Espectacular PH reciclado en Boedo sin expensas.   \n",
       "2  Depto.tipo casa de 2 ambientes en Venta en Pal...   \n",
       "3  COSTA RICA 5800 / PALERMO HOLLYWOOD / VENTA PH...   \n",
       "4  58 entre 1 y 2  Venta de departamento en ph.1 ...   \n",
       "\n",
       "                                         description property_type  \\\n",
       "0  DESCRIPCION DE LA PROPIEDAD: Departamento de 1...  Departamento   \n",
       "1   PH reciclado en Boedo a una cuadra de la plaz...            PH   \n",
       "2  2 ambienets amplio , excelente estado , patio ...            PH   \n",
       "3  HERMOSO PH EN PALERMO!!!2 AMBIENTES TOTALMENTE...            PH   \n",
       "4  58 entre 1 y 2  Venta de departamento en PH. P...            PH   \n",
       "\n",
       "  operation_type  \n",
       "0          Venta  \n",
       "1          Venta  \n",
       "2          Venta  \n",
       "3          Venta  \n",
       "4          Venta  "
      ]
     },
     "execution_count": 3,
     "metadata": {},
     "output_type": "execute_result"
    }
   ],
   "source": [
    "data_properati = pd.read_csv('DS_Proyecto_01_Datos_Properati.csv')\n",
    "data_properati.head()"
   ]
  },
  {
   "cell_type": "markdown",
   "metadata": {},
   "source": [
    "Aplico algunos filtros realizados en el Proyecto 01, para tener el mismo punto de partida:"
   ]
  },
  {
   "cell_type": "code",
   "execution_count": 4,
   "metadata": {},
   "outputs": [],
   "source": [
    "data_properati = data_properati[(data_properati.property_type==\"Departamento\")\n",
    "                |(data_properati.property_type==\"PH\")\n",
    "                |(data_properati.property_type==\"Casa\")\n",
    "                ]\n",
    "data_properati = data_properati[data_properati.l2 == \"Capital Federal\"]"
   ]
  },
  {
   "cell_type": "markdown",
   "metadata": {},
   "source": [
    "Visualizo y elimino algunos errores presentes en el dataset:"
   ]
  },
  {
   "cell_type": "code",
   "execution_count": 5,
   "metadata": {},
   "outputs": [
    {
     "name": "stdout",
     "output_type": "stream",
     "text": [
      "\u001b[94mPropiedades con mayor cantidad de habitaciones que ambientes\u001b[0m\n"
     ]
    },
    {
     "data": {
      "text/html": [
       "<div>\n",
       "<style scoped>\n",
       "    .dataframe tbody tr th:only-of-type {\n",
       "        vertical-align: middle;\n",
       "    }\n",
       "\n",
       "    .dataframe tbody tr th {\n",
       "        vertical-align: top;\n",
       "    }\n",
       "\n",
       "    .dataframe thead th {\n",
       "        text-align: right;\n",
       "    }\n",
       "</style>\n",
       "<table border=\"1\" class=\"dataframe\">\n",
       "  <thead>\n",
       "    <tr style=\"text-align: right;\">\n",
       "      <th></th>\n",
       "      <th>start_date</th>\n",
       "      <th>end_date</th>\n",
       "      <th>created_on</th>\n",
       "      <th>lat</th>\n",
       "      <th>lon</th>\n",
       "      <th>l1</th>\n",
       "      <th>l2</th>\n",
       "      <th>l3</th>\n",
       "      <th>rooms</th>\n",
       "      <th>bedrooms</th>\n",
       "      <th>bathrooms</th>\n",
       "      <th>surface_total</th>\n",
       "      <th>surface_covered</th>\n",
       "      <th>price</th>\n",
       "      <th>currency</th>\n",
       "      <th>title</th>\n",
       "      <th>description</th>\n",
       "      <th>property_type</th>\n",
       "      <th>operation_type</th>\n",
       "    </tr>\n",
       "  </thead>\n",
       "  <tbody>\n",
       "    <tr>\n",
       "      <th>5883</th>\n",
       "      <td>2019-04-12</td>\n",
       "      <td>2019-10-10</td>\n",
       "      <td>2019-04-12</td>\n",
       "      <td>-34.626409</td>\n",
       "      <td>-58.509071</td>\n",
       "      <td>Argentina</td>\n",
       "      <td>Capital Federal</td>\n",
       "      <td>Villa Luro</td>\n",
       "      <td>1.0</td>\n",
       "      <td>4.0</td>\n",
       "      <td>1.0</td>\n",
       "      <td>38.0</td>\n",
       "      <td>38.0</td>\n",
       "      <td>80800.0</td>\n",
       "      <td>USD</td>\n",
       "      <td>2 ambientes, oportunidad de inversión desde pozo</td>\n",
       "      <td>Corredor Responsable: GABRIELA FERNANDEZ - CPI...</td>\n",
       "      <td>Departamento</td>\n",
       "      <td>Venta</td>\n",
       "    </tr>\n",
       "    <tr>\n",
       "      <th>8843</th>\n",
       "      <td>2019-11-03</td>\n",
       "      <td>2019-12-23</td>\n",
       "      <td>2019-11-03</td>\n",
       "      <td>-34.630209</td>\n",
       "      <td>-58.364202</td>\n",
       "      <td>Argentina</td>\n",
       "      <td>Capital Federal</td>\n",
       "      <td>Boca</td>\n",
       "      <td>2.0</td>\n",
       "      <td>15.0</td>\n",
       "      <td>1.0</td>\n",
       "      <td>47.0</td>\n",
       "      <td>44.0</td>\n",
       "      <td>100000.0</td>\n",
       "      <td>USD</td>\n",
       "      <td>EXCELENTE  2  AMBIENTES CON BALCON AL FRENTE</td>\n",
       "      <td>2  AMB. AL FRENTE  CON CÓMODO  BALCÓN  VISTA  ...</td>\n",
       "      <td>Departamento</td>\n",
       "      <td>Venta</td>\n",
       "    </tr>\n",
       "    <tr>\n",
       "      <th>11253</th>\n",
       "      <td>2019-03-08</td>\n",
       "      <td>2019-07-25</td>\n",
       "      <td>2019-03-08</td>\n",
       "      <td>-34.551626</td>\n",
       "      <td>-58.472731</td>\n",
       "      <td>Argentina</td>\n",
       "      <td>Capital Federal</td>\n",
       "      <td>Saavedra</td>\n",
       "      <td>5.0</td>\n",
       "      <td>6.0</td>\n",
       "      <td>3.0</td>\n",
       "      <td>263.0</td>\n",
       "      <td>163.0</td>\n",
       "      <td>290000.0</td>\n",
       "      <td>USD</td>\n",
       "      <td>AMPLIO PH / VARIOS DESTINOS</td>\n",
       "      <td>&lt;br&gt;Sobre Av. Crmer al 3600 entre Av. Larralde...</td>\n",
       "      <td>PH</td>\n",
       "      <td>Venta</td>\n",
       "    </tr>\n",
       "    <tr>\n",
       "      <th>13331</th>\n",
       "      <td>2019-08-05</td>\n",
       "      <td>2019-08-17</td>\n",
       "      <td>2019-08-05</td>\n",
       "      <td>-34.620905</td>\n",
       "      <td>-58.398290</td>\n",
       "      <td>Argentina</td>\n",
       "      <td>Capital Federal</td>\n",
       "      <td>San Cristobal</td>\n",
       "      <td>7.0</td>\n",
       "      <td>13.0</td>\n",
       "      <td>8.0</td>\n",
       "      <td>874.0</td>\n",
       "      <td>605.0</td>\n",
       "      <td>700000.0</td>\n",
       "      <td>USD</td>\n",
       "      <td>Encantador PH Restaurado con terraza! Oportunidad</td>\n",
       "      <td>Corredor Responsable: Ariel Champanier - CUCIC...</td>\n",
       "      <td>PH</td>\n",
       "      <td>Venta</td>\n",
       "    </tr>\n",
       "    <tr>\n",
       "      <th>14242</th>\n",
       "      <td>2019-05-29</td>\n",
       "      <td>9999-12-31</td>\n",
       "      <td>2019-05-29</td>\n",
       "      <td>NaN</td>\n",
       "      <td>NaN</td>\n",
       "      <td>Argentina</td>\n",
       "      <td>Capital Federal</td>\n",
       "      <td>Once</td>\n",
       "      <td>1.0</td>\n",
       "      <td>2.0</td>\n",
       "      <td>1.0</td>\n",
       "      <td>56.0</td>\n",
       "      <td>56.0</td>\n",
       "      <td>117000.0</td>\n",
       "      <td>USD</td>\n",
       "      <td>Dto semip Balvanera 3amb 56m2 balc fte Saavedr...</td>\n",
       "      <td>NUEVO PRECIO - Departamento en Venta en Balvan...</td>\n",
       "      <td>Departamento</td>\n",
       "      <td>Venta</td>\n",
       "    </tr>\n",
       "    <tr>\n",
       "      <th>...</th>\n",
       "      <td>...</td>\n",
       "      <td>...</td>\n",
       "      <td>...</td>\n",
       "      <td>...</td>\n",
       "      <td>...</td>\n",
       "      <td>...</td>\n",
       "      <td>...</td>\n",
       "      <td>...</td>\n",
       "      <td>...</td>\n",
       "      <td>...</td>\n",
       "      <td>...</td>\n",
       "      <td>...</td>\n",
       "      <td>...</td>\n",
       "      <td>...</td>\n",
       "      <td>...</td>\n",
       "      <td>...</td>\n",
       "      <td>...</td>\n",
       "      <td>...</td>\n",
       "      <td>...</td>\n",
       "    </tr>\n",
       "    <tr>\n",
       "      <th>113815</th>\n",
       "      <td>2019-10-12</td>\n",
       "      <td>2019-12-23</td>\n",
       "      <td>2019-10-12</td>\n",
       "      <td>-34.595355</td>\n",
       "      <td>-58.379684</td>\n",
       "      <td>Argentina</td>\n",
       "      <td>Capital Federal</td>\n",
       "      <td>Retiro</td>\n",
       "      <td>1.0</td>\n",
       "      <td>2.0</td>\n",
       "      <td>1.0</td>\n",
       "      <td>45.0</td>\n",
       "      <td>45.0</td>\n",
       "      <td>73000.0</td>\n",
       "      <td>USD</td>\n",
       "      <td>Negociable. Venta. Departamento. 45 m². Suipac...</td>\n",
       "      <td>CARACTERÍSTICAS- Superficie total: 45 m².- Mon...</td>\n",
       "      <td>Departamento</td>\n",
       "      <td>Venta</td>\n",
       "    </tr>\n",
       "    <tr>\n",
       "      <th>123288</th>\n",
       "      <td>2019-06-01</td>\n",
       "      <td>2019-12-01</td>\n",
       "      <td>2019-06-01</td>\n",
       "      <td>-34.594806</td>\n",
       "      <td>-58.374352</td>\n",
       "      <td>Argentina</td>\n",
       "      <td>Capital Federal</td>\n",
       "      <td>Retiro</td>\n",
       "      <td>4.0</td>\n",
       "      <td>5.0</td>\n",
       "      <td>2.0</td>\n",
       "      <td>179.0</td>\n",
       "      <td>172.0</td>\n",
       "      <td>460000.0</td>\n",
       "      <td>USD</td>\n",
       "      <td>Piso 4 ambientes con dependencia en retiro.</td>\n",
       "      <td>Corredor Responsable: ELEONORA MEDEOT MINUJEN ...</td>\n",
       "      <td>Departamento</td>\n",
       "      <td>Venta</td>\n",
       "    </tr>\n",
       "    <tr>\n",
       "      <th>129923</th>\n",
       "      <td>2019-10-24</td>\n",
       "      <td>9999-12-31</td>\n",
       "      <td>2019-10-24</td>\n",
       "      <td>-34.601983</td>\n",
       "      <td>-58.468209</td>\n",
       "      <td>Argentina</td>\n",
       "      <td>Capital Federal</td>\n",
       "      <td>Paternal</td>\n",
       "      <td>4.0</td>\n",
       "      <td>9.0</td>\n",
       "      <td>4.0</td>\n",
       "      <td>283.0</td>\n",
       "      <td>170.0</td>\n",
       "      <td>240000.0</td>\n",
       "      <td>USD</td>\n",
       "      <td>PH VENTA / IDEAL INVERSOR / IDEAL MULTIFAMILIA !!</td>\n",
       "      <td>Corredor Responsable: MARCELO TRUJILLO -  CPI ...</td>\n",
       "      <td>PH</td>\n",
       "      <td>Venta</td>\n",
       "    </tr>\n",
       "    <tr>\n",
       "      <th>131446</th>\n",
       "      <td>2019-10-08</td>\n",
       "      <td>2019-10-24</td>\n",
       "      <td>2019-10-08</td>\n",
       "      <td>-34.601983</td>\n",
       "      <td>-58.468209</td>\n",
       "      <td>Argentina</td>\n",
       "      <td>Capital Federal</td>\n",
       "      <td>Paternal</td>\n",
       "      <td>4.0</td>\n",
       "      <td>9.0</td>\n",
       "      <td>4.0</td>\n",
       "      <td>283.0</td>\n",
       "      <td>170.0</td>\n",
       "      <td>240000.0</td>\n",
       "      <td>USD</td>\n",
       "      <td>PH VENTA / IDEAL INVERSOR / IDEAL MULTIFAMILIA !!</td>\n",
       "      <td>Corredor Responsable: MARCELO TRUJILLO -  CPI ...</td>\n",
       "      <td>PH</td>\n",
       "      <td>Venta</td>\n",
       "    </tr>\n",
       "    <tr>\n",
       "      <th>140804</th>\n",
       "      <td>2019-07-31</td>\n",
       "      <td>2019-08-14</td>\n",
       "      <td>2019-07-31</td>\n",
       "      <td>-34.616020</td>\n",
       "      <td>-58.485102</td>\n",
       "      <td>Argentina</td>\n",
       "      <td>Capital Federal</td>\n",
       "      <td>Villa del Parque</td>\n",
       "      <td>3.0</td>\n",
       "      <td>4.0</td>\n",
       "      <td>4.0</td>\n",
       "      <td>518.0</td>\n",
       "      <td>366.0</td>\n",
       "      <td>400000.0</td>\n",
       "      <td>USD</td>\n",
       "      <td>Casa o 2 ph + 2 locales s/ subdividir</td>\n",
       "      <td>La propiedad que se comercializa cuenta con 2 ...</td>\n",
       "      <td>PH</td>\n",
       "      <td>Venta</td>\n",
       "    </tr>\n",
       "  </tbody>\n",
       "</table>\n",
       "<p>63 rows × 19 columns</p>\n",
       "</div>"
      ],
      "text/plain": [
       "        start_date    end_date  created_on        lat        lon         l1  \\\n",
       "5883    2019-04-12  2019-10-10  2019-04-12 -34.626409 -58.509071  Argentina   \n",
       "8843    2019-11-03  2019-12-23  2019-11-03 -34.630209 -58.364202  Argentina   \n",
       "11253   2019-03-08  2019-07-25  2019-03-08 -34.551626 -58.472731  Argentina   \n",
       "13331   2019-08-05  2019-08-17  2019-08-05 -34.620905 -58.398290  Argentina   \n",
       "14242   2019-05-29  9999-12-31  2019-05-29        NaN        NaN  Argentina   \n",
       "...            ...         ...         ...        ...        ...        ...   \n",
       "113815  2019-10-12  2019-12-23  2019-10-12 -34.595355 -58.379684  Argentina   \n",
       "123288  2019-06-01  2019-12-01  2019-06-01 -34.594806 -58.374352  Argentina   \n",
       "129923  2019-10-24  9999-12-31  2019-10-24 -34.601983 -58.468209  Argentina   \n",
       "131446  2019-10-08  2019-10-24  2019-10-08 -34.601983 -58.468209  Argentina   \n",
       "140804  2019-07-31  2019-08-14  2019-07-31 -34.616020 -58.485102  Argentina   \n",
       "\n",
       "                     l2                l3  rooms  bedrooms  bathrooms  \\\n",
       "5883    Capital Federal        Villa Luro    1.0       4.0        1.0   \n",
       "8843    Capital Federal              Boca    2.0      15.0        1.0   \n",
       "11253   Capital Federal          Saavedra    5.0       6.0        3.0   \n",
       "13331   Capital Federal     San Cristobal    7.0      13.0        8.0   \n",
       "14242   Capital Federal              Once    1.0       2.0        1.0   \n",
       "...                 ...               ...    ...       ...        ...   \n",
       "113815  Capital Federal            Retiro    1.0       2.0        1.0   \n",
       "123288  Capital Federal            Retiro    4.0       5.0        2.0   \n",
       "129923  Capital Federal          Paternal    4.0       9.0        4.0   \n",
       "131446  Capital Federal          Paternal    4.0       9.0        4.0   \n",
       "140804  Capital Federal  Villa del Parque    3.0       4.0        4.0   \n",
       "\n",
       "        surface_total  surface_covered     price currency  \\\n",
       "5883             38.0             38.0   80800.0      USD   \n",
       "8843             47.0             44.0  100000.0      USD   \n",
       "11253           263.0            163.0  290000.0      USD   \n",
       "13331           874.0            605.0  700000.0      USD   \n",
       "14242            56.0             56.0  117000.0      USD   \n",
       "...               ...              ...       ...      ...   \n",
       "113815           45.0             45.0   73000.0      USD   \n",
       "123288          179.0            172.0  460000.0      USD   \n",
       "129923          283.0            170.0  240000.0      USD   \n",
       "131446          283.0            170.0  240000.0      USD   \n",
       "140804          518.0            366.0  400000.0      USD   \n",
       "\n",
       "                                                    title  \\\n",
       "5883     2 ambientes, oportunidad de inversión desde pozo   \n",
       "8843        EXCELENTE  2  AMBIENTES CON BALCON AL FRENTE    \n",
       "11253                         AMPLIO PH / VARIOS DESTINOS   \n",
       "13331   Encantador PH Restaurado con terraza! Oportunidad   \n",
       "14242   Dto semip Balvanera 3amb 56m2 balc fte Saavedr...   \n",
       "...                                                   ...   \n",
       "113815  Negociable. Venta. Departamento. 45 m². Suipac...   \n",
       "123288        Piso 4 ambientes con dependencia en retiro.   \n",
       "129923  PH VENTA / IDEAL INVERSOR / IDEAL MULTIFAMILIA !!   \n",
       "131446  PH VENTA / IDEAL INVERSOR / IDEAL MULTIFAMILIA !!   \n",
       "140804              Casa o 2 ph + 2 locales s/ subdividir   \n",
       "\n",
       "                                              description property_type  \\\n",
       "5883    Corredor Responsable: GABRIELA FERNANDEZ - CPI...  Departamento   \n",
       "8843    2  AMB. AL FRENTE  CON CÓMODO  BALCÓN  VISTA  ...  Departamento   \n",
       "11253   <br>Sobre Av. Crmer al 3600 entre Av. Larralde...            PH   \n",
       "13331   Corredor Responsable: Ariel Champanier - CUCIC...            PH   \n",
       "14242   NUEVO PRECIO - Departamento en Venta en Balvan...  Departamento   \n",
       "...                                                   ...           ...   \n",
       "113815  CARACTERÍSTICAS- Superficie total: 45 m².- Mon...  Departamento   \n",
       "123288  Corredor Responsable: ELEONORA MEDEOT MINUJEN ...  Departamento   \n",
       "129923  Corredor Responsable: MARCELO TRUJILLO -  CPI ...            PH   \n",
       "131446  Corredor Responsable: MARCELO TRUJILLO -  CPI ...            PH   \n",
       "140804  La propiedad que se comercializa cuenta con 2 ...            PH   \n",
       "\n",
       "       operation_type  \n",
       "5883            Venta  \n",
       "8843            Venta  \n",
       "11253           Venta  \n",
       "13331           Venta  \n",
       "14242           Venta  \n",
       "...               ...  \n",
       "113815          Venta  \n",
       "123288          Venta  \n",
       "129923          Venta  \n",
       "131446          Venta  \n",
       "140804          Venta  \n",
       "\n",
       "[63 rows x 19 columns]"
      ]
     },
     "execution_count": 5,
     "metadata": {},
     "output_type": "execute_result"
    }
   ],
   "source": [
    "print(color.BLUE + 'Propiedades con mayor cantidad de habitaciones que ambientes' + color.END)\n",
    "data_properati.query('rooms < bedrooms')"
   ]
  },
  {
   "cell_type": "code",
   "execution_count": 6,
   "metadata": {},
   "outputs": [
    {
     "name": "stdout",
     "output_type": "stream",
     "text": [
      "\u001b[94mPropiedades con superficie cubierta mayor a total\u001b[0m\n"
     ]
    },
    {
     "data": {
      "text/html": [
       "<div>\n",
       "<style scoped>\n",
       "    .dataframe tbody tr th:only-of-type {\n",
       "        vertical-align: middle;\n",
       "    }\n",
       "\n",
       "    .dataframe tbody tr th {\n",
       "        vertical-align: top;\n",
       "    }\n",
       "\n",
       "    .dataframe thead th {\n",
       "        text-align: right;\n",
       "    }\n",
       "</style>\n",
       "<table border=\"1\" class=\"dataframe\">\n",
       "  <thead>\n",
       "    <tr style=\"text-align: right;\">\n",
       "      <th></th>\n",
       "      <th>start_date</th>\n",
       "      <th>end_date</th>\n",
       "      <th>created_on</th>\n",
       "      <th>lat</th>\n",
       "      <th>lon</th>\n",
       "      <th>l1</th>\n",
       "      <th>l2</th>\n",
       "      <th>l3</th>\n",
       "      <th>rooms</th>\n",
       "      <th>bedrooms</th>\n",
       "      <th>bathrooms</th>\n",
       "      <th>surface_total</th>\n",
       "      <th>surface_covered</th>\n",
       "      <th>price</th>\n",
       "      <th>currency</th>\n",
       "      <th>title</th>\n",
       "      <th>description</th>\n",
       "      <th>property_type</th>\n",
       "      <th>operation_type</th>\n",
       "    </tr>\n",
       "  </thead>\n",
       "  <tbody>\n",
       "    <tr>\n",
       "      <th>446</th>\n",
       "      <td>2019-03-04</td>\n",
       "      <td>2019-08-17</td>\n",
       "      <td>2019-03-04</td>\n",
       "      <td>-34.613369</td>\n",
       "      <td>-58.488637</td>\n",
       "      <td>Argentina</td>\n",
       "      <td>Capital Federal</td>\n",
       "      <td>Villa Santa Rita</td>\n",
       "      <td>5.0</td>\n",
       "      <td>4.0</td>\n",
       "      <td>3.0</td>\n",
       "      <td>230.0</td>\n",
       "      <td>244.0</td>\n",
       "      <td>490000.0</td>\n",
       "      <td>USD</td>\n",
       "      <td>VENTA CASA 5 AMBIENTES</td>\n",
       "      <td>Corredor Responsable: Mónica Silvia Martinuzzi...</td>\n",
       "      <td>Casa</td>\n",
       "      <td>Venta</td>\n",
       "    </tr>\n",
       "    <tr>\n",
       "      <th>859</th>\n",
       "      <td>2019-04-25</td>\n",
       "      <td>2019-05-21</td>\n",
       "      <td>2019-04-25</td>\n",
       "      <td>-34.561805</td>\n",
       "      <td>-58.459579</td>\n",
       "      <td>Argentina</td>\n",
       "      <td>Capital Federal</td>\n",
       "      <td>Belgrano</td>\n",
       "      <td>3.0</td>\n",
       "      <td>2.0</td>\n",
       "      <td>1.0</td>\n",
       "      <td>43.0</td>\n",
       "      <td>44.0</td>\n",
       "      <td>133000.0</td>\n",
       "      <td>USD</td>\n",
       "      <td>Departamento 3 ambientes.Belgrano</td>\n",
       "      <td>Corredor Responsable: Gustavo Guastello - C.U....</td>\n",
       "      <td>Departamento</td>\n",
       "      <td>Venta</td>\n",
       "    </tr>\n",
       "    <tr>\n",
       "      <th>924</th>\n",
       "      <td>2019-04-25</td>\n",
       "      <td>9999-12-31</td>\n",
       "      <td>2019-04-25</td>\n",
       "      <td>-34.584201</td>\n",
       "      <td>-58.496345</td>\n",
       "      <td>Argentina</td>\n",
       "      <td>Capital Federal</td>\n",
       "      <td>Villa Pueyrredón</td>\n",
       "      <td>3.0</td>\n",
       "      <td>2.0</td>\n",
       "      <td>1.0</td>\n",
       "      <td>65.0</td>\n",
       "      <td>66.0</td>\n",
       "      <td>187000.0</td>\n",
       "      <td>USD</td>\n",
       "      <td>VENTA DEPTO 3 AMB VILLA PUEYRREDON CON COCHERA</td>\n",
       "      <td>Corredor Responsable: EMMA A. PIERSIMONI - CPI...</td>\n",
       "      <td>Departamento</td>\n",
       "      <td>Venta</td>\n",
       "    </tr>\n",
       "    <tr>\n",
       "      <th>1329</th>\n",
       "      <td>2019-07-08</td>\n",
       "      <td>2019-11-12</td>\n",
       "      <td>2019-07-08</td>\n",
       "      <td>-34.576322</td>\n",
       "      <td>-58.406275</td>\n",
       "      <td>Argentina</td>\n",
       "      <td>Capital Federal</td>\n",
       "      <td>Recoleta</td>\n",
       "      <td>2.0</td>\n",
       "      <td>1.0</td>\n",
       "      <td>2.0</td>\n",
       "      <td>44.0</td>\n",
       "      <td>45.0</td>\n",
       "      <td>235000.0</td>\n",
       "      <td>USD</td>\n",
       "      <td>DIVINO 2 AMB BAÑO Y TOIL RECICLADO POR ARQUITECTO</td>\n",
       "      <td>Corredor Responsable: KARINA QUINTEROS - CUCIC...</td>\n",
       "      <td>Departamento</td>\n",
       "      <td>Venta</td>\n",
       "    </tr>\n",
       "    <tr>\n",
       "      <th>1438</th>\n",
       "      <td>2019-07-08</td>\n",
       "      <td>2019-08-17</td>\n",
       "      <td>2019-07-08</td>\n",
       "      <td>-34.610787</td>\n",
       "      <td>-58.393919</td>\n",
       "      <td>Argentina</td>\n",
       "      <td>Capital Federal</td>\n",
       "      <td>Congreso</td>\n",
       "      <td>3.0</td>\n",
       "      <td>2.0</td>\n",
       "      <td>1.0</td>\n",
       "      <td>78.0</td>\n",
       "      <td>79.0</td>\n",
       "      <td>235000.0</td>\n",
       "      <td>USD</td>\n",
       "      <td>Venta dep-Congreso 3 amb-Restaurado-Impecable-</td>\n",
       "      <td>Corredor Responsable: Ariel Champanier - C.U.C...</td>\n",
       "      <td>Departamento</td>\n",
       "      <td>Venta</td>\n",
       "    </tr>\n",
       "    <tr>\n",
       "      <th>...</th>\n",
       "      <td>...</td>\n",
       "      <td>...</td>\n",
       "      <td>...</td>\n",
       "      <td>...</td>\n",
       "      <td>...</td>\n",
       "      <td>...</td>\n",
       "      <td>...</td>\n",
       "      <td>...</td>\n",
       "      <td>...</td>\n",
       "      <td>...</td>\n",
       "      <td>...</td>\n",
       "      <td>...</td>\n",
       "      <td>...</td>\n",
       "      <td>...</td>\n",
       "      <td>...</td>\n",
       "      <td>...</td>\n",
       "      <td>...</td>\n",
       "      <td>...</td>\n",
       "      <td>...</td>\n",
       "    </tr>\n",
       "    <tr>\n",
       "      <th>145138</th>\n",
       "      <td>2020-01-15</td>\n",
       "      <td>2020-03-12</td>\n",
       "      <td>2020-01-15</td>\n",
       "      <td>-34.626300</td>\n",
       "      <td>-58.452418</td>\n",
       "      <td>Argentina</td>\n",
       "      <td>Capital Federal</td>\n",
       "      <td>Caballito</td>\n",
       "      <td>1.0</td>\n",
       "      <td>1.0</td>\n",
       "      <td>1.0</td>\n",
       "      <td>24.0</td>\n",
       "      <td>25.0</td>\n",
       "      <td>54900.0</td>\n",
       "      <td>USD</td>\n",
       "      <td>VENTA DEPTO MONOAMBIENTE- IDEAL INVERSOR-CABAL...</td>\n",
       "      <td>Corredor Responsable: Patricia Maria Sodor - C...</td>\n",
       "      <td>Departamento</td>\n",
       "      <td>Venta</td>\n",
       "    </tr>\n",
       "    <tr>\n",
       "      <th>145146</th>\n",
       "      <td>2020-01-15</td>\n",
       "      <td>2020-01-21</td>\n",
       "      <td>2020-01-15</td>\n",
       "      <td>-34.605086</td>\n",
       "      <td>-58.384630</td>\n",
       "      <td>Argentina</td>\n",
       "      <td>Capital Federal</td>\n",
       "      <td>San Nicolás</td>\n",
       "      <td>1.0</td>\n",
       "      <td>1.0</td>\n",
       "      <td>1.0</td>\n",
       "      <td>21.0</td>\n",
       "      <td>22.0</td>\n",
       "      <td>48000.0</td>\n",
       "      <td>USD</td>\n",
       "      <td>Monoambiente exc ubicación 1 cuadra obelisco</td>\n",
       "      <td>Corredor Responsable: Marcelo Trujillo - CUCIC...</td>\n",
       "      <td>Departamento</td>\n",
       "      <td>Venta</td>\n",
       "    </tr>\n",
       "    <tr>\n",
       "      <th>145262</th>\n",
       "      <td>2020-01-15</td>\n",
       "      <td>9999-12-31</td>\n",
       "      <td>2020-01-15</td>\n",
       "      <td>-34.600988</td>\n",
       "      <td>-58.433062</td>\n",
       "      <td>Argentina</td>\n",
       "      <td>Capital Federal</td>\n",
       "      <td>Villa Crespo</td>\n",
       "      <td>3.0</td>\n",
       "      <td>2.0</td>\n",
       "      <td>1.0</td>\n",
       "      <td>51.0</td>\n",
       "      <td>52.0</td>\n",
       "      <td>127000.0</td>\n",
       "      <td>USD</td>\n",
       "      <td>Depto 3 ambientes.Muy buen estado. Villa crespo</td>\n",
       "      <td>Corredor Responsable: Patricia Maria Sodor - C...</td>\n",
       "      <td>Departamento</td>\n",
       "      <td>Venta</td>\n",
       "    </tr>\n",
       "    <tr>\n",
       "      <th>145376</th>\n",
       "      <td>2020-01-15</td>\n",
       "      <td>2020-02-05</td>\n",
       "      <td>2020-01-15</td>\n",
       "      <td>-34.650700</td>\n",
       "      <td>-58.385906</td>\n",
       "      <td>Argentina</td>\n",
       "      <td>Capital Federal</td>\n",
       "      <td>Barracas</td>\n",
       "      <td>6.0</td>\n",
       "      <td>4.0</td>\n",
       "      <td>2.0</td>\n",
       "      <td>197.0</td>\n",
       "      <td>290.0</td>\n",
       "      <td>329900.0</td>\n",
       "      <td>USD</td>\n",
       "      <td>CASA 6 AMBIENTES LOTE PROPIO BARRACAS</td>\n",
       "      <td>Corredor Responsable: GUILLERMO FRIMET - CUCIC...</td>\n",
       "      <td>Casa</td>\n",
       "      <td>Venta</td>\n",
       "    </tr>\n",
       "    <tr>\n",
       "      <th>145383</th>\n",
       "      <td>2020-01-15</td>\n",
       "      <td>2020-02-05</td>\n",
       "      <td>2020-01-15</td>\n",
       "      <td>-34.647387</td>\n",
       "      <td>-58.388259</td>\n",
       "      <td>Argentina</td>\n",
       "      <td>Capital Federal</td>\n",
       "      <td>Barracas</td>\n",
       "      <td>7.0</td>\n",
       "      <td>5.0</td>\n",
       "      <td>1.0</td>\n",
       "      <td>124.0</td>\n",
       "      <td>170.0</td>\n",
       "      <td>99000.0</td>\n",
       "      <td>USD</td>\n",
       "      <td>Excelente OP/ Casa lote propio a refaccionar !!</td>\n",
       "      <td>Corredor Responsable: GUILLERMO FRIMET - CUCIC...</td>\n",
       "      <td>Casa</td>\n",
       "      <td>Venta</td>\n",
       "    </tr>\n",
       "  </tbody>\n",
       "</table>\n",
       "<p>760 rows × 19 columns</p>\n",
       "</div>"
      ],
      "text/plain": [
       "        start_date    end_date  created_on        lat        lon         l1  \\\n",
       "446     2019-03-04  2019-08-17  2019-03-04 -34.613369 -58.488637  Argentina   \n",
       "859     2019-04-25  2019-05-21  2019-04-25 -34.561805 -58.459579  Argentina   \n",
       "924     2019-04-25  9999-12-31  2019-04-25 -34.584201 -58.496345  Argentina   \n",
       "1329    2019-07-08  2019-11-12  2019-07-08 -34.576322 -58.406275  Argentina   \n",
       "1438    2019-07-08  2019-08-17  2019-07-08 -34.610787 -58.393919  Argentina   \n",
       "...            ...         ...         ...        ...        ...        ...   \n",
       "145138  2020-01-15  2020-03-12  2020-01-15 -34.626300 -58.452418  Argentina   \n",
       "145146  2020-01-15  2020-01-21  2020-01-15 -34.605086 -58.384630  Argentina   \n",
       "145262  2020-01-15  9999-12-31  2020-01-15 -34.600988 -58.433062  Argentina   \n",
       "145376  2020-01-15  2020-02-05  2020-01-15 -34.650700 -58.385906  Argentina   \n",
       "145383  2020-01-15  2020-02-05  2020-01-15 -34.647387 -58.388259  Argentina   \n",
       "\n",
       "                     l2                l3  rooms  bedrooms  bathrooms  \\\n",
       "446     Capital Federal  Villa Santa Rita    5.0       4.0        3.0   \n",
       "859     Capital Federal          Belgrano    3.0       2.0        1.0   \n",
       "924     Capital Federal  Villa Pueyrredón    3.0       2.0        1.0   \n",
       "1329    Capital Federal          Recoleta    2.0       1.0        2.0   \n",
       "1438    Capital Federal          Congreso    3.0       2.0        1.0   \n",
       "...                 ...               ...    ...       ...        ...   \n",
       "145138  Capital Federal         Caballito    1.0       1.0        1.0   \n",
       "145146  Capital Federal       San Nicolás    1.0       1.0        1.0   \n",
       "145262  Capital Federal      Villa Crespo    3.0       2.0        1.0   \n",
       "145376  Capital Federal          Barracas    6.0       4.0        2.0   \n",
       "145383  Capital Federal          Barracas    7.0       5.0        1.0   \n",
       "\n",
       "        surface_total  surface_covered     price currency  \\\n",
       "446             230.0            244.0  490000.0      USD   \n",
       "859              43.0             44.0  133000.0      USD   \n",
       "924              65.0             66.0  187000.0      USD   \n",
       "1329             44.0             45.0  235000.0      USD   \n",
       "1438             78.0             79.0  235000.0      USD   \n",
       "...               ...              ...       ...      ...   \n",
       "145138           24.0             25.0   54900.0      USD   \n",
       "145146           21.0             22.0   48000.0      USD   \n",
       "145262           51.0             52.0  127000.0      USD   \n",
       "145376          197.0            290.0  329900.0      USD   \n",
       "145383          124.0            170.0   99000.0      USD   \n",
       "\n",
       "                                                    title  \\\n",
       "446                                VENTA CASA 5 AMBIENTES   \n",
       "859                     Departamento 3 ambientes.Belgrano   \n",
       "924        VENTA DEPTO 3 AMB VILLA PUEYRREDON CON COCHERA   \n",
       "1329    DIVINO 2 AMB BAÑO Y TOIL RECICLADO POR ARQUITECTO   \n",
       "1438       Venta dep-Congreso 3 amb-Restaurado-Impecable-   \n",
       "...                                                   ...   \n",
       "145138  VENTA DEPTO MONOAMBIENTE- IDEAL INVERSOR-CABAL...   \n",
       "145146       Monoambiente exc ubicación 1 cuadra obelisco   \n",
       "145262    Depto 3 ambientes.Muy buen estado. Villa crespo   \n",
       "145376              CASA 6 AMBIENTES LOTE PROPIO BARRACAS   \n",
       "145383    Excelente OP/ Casa lote propio a refaccionar !!   \n",
       "\n",
       "                                              description property_type  \\\n",
       "446     Corredor Responsable: Mónica Silvia Martinuzzi...          Casa   \n",
       "859     Corredor Responsable: Gustavo Guastello - C.U....  Departamento   \n",
       "924     Corredor Responsable: EMMA A. PIERSIMONI - CPI...  Departamento   \n",
       "1329    Corredor Responsable: KARINA QUINTEROS - CUCIC...  Departamento   \n",
       "1438    Corredor Responsable: Ariel Champanier - C.U.C...  Departamento   \n",
       "...                                                   ...           ...   \n",
       "145138  Corredor Responsable: Patricia Maria Sodor - C...  Departamento   \n",
       "145146  Corredor Responsable: Marcelo Trujillo - CUCIC...  Departamento   \n",
       "145262  Corredor Responsable: Patricia Maria Sodor - C...  Departamento   \n",
       "145376  Corredor Responsable: GUILLERMO FRIMET - CUCIC...          Casa   \n",
       "145383  Corredor Responsable: GUILLERMO FRIMET - CUCIC...          Casa   \n",
       "\n",
       "       operation_type  \n",
       "446             Venta  \n",
       "859             Venta  \n",
       "924             Venta  \n",
       "1329            Venta  \n",
       "1438            Venta  \n",
       "...               ...  \n",
       "145138          Venta  \n",
       "145146          Venta  \n",
       "145262          Venta  \n",
       "145376          Venta  \n",
       "145383          Venta  \n",
       "\n",
       "[760 rows x 19 columns]"
      ]
     },
     "execution_count": 6,
     "metadata": {},
     "output_type": "execute_result"
    }
   ],
   "source": [
    "print(color.BLUE + 'Propiedades con superficie cubierta mayor a total' + color.END)\n",
    "data_properati.query('surface_covered > surface_total')"
   ]
  },
  {
   "cell_type": "markdown",
   "metadata": {},
   "source": [
    "Elimino los errores:"
   ]
  },
  {
   "cell_type": "code",
   "execution_count": 7,
   "metadata": {},
   "outputs": [
    {
     "data": {
      "text/html": [
       "<div>\n",
       "<style scoped>\n",
       "    .dataframe tbody tr th:only-of-type {\n",
       "        vertical-align: middle;\n",
       "    }\n",
       "\n",
       "    .dataframe tbody tr th {\n",
       "        vertical-align: top;\n",
       "    }\n",
       "\n",
       "    .dataframe thead th {\n",
       "        text-align: right;\n",
       "    }\n",
       "</style>\n",
       "<table border=\"1\" class=\"dataframe\">\n",
       "  <thead>\n",
       "    <tr style=\"text-align: right;\">\n",
       "      <th></th>\n",
       "      <th>start_date</th>\n",
       "      <th>end_date</th>\n",
       "      <th>created_on</th>\n",
       "      <th>lat</th>\n",
       "      <th>lon</th>\n",
       "      <th>l1</th>\n",
       "      <th>l2</th>\n",
       "      <th>l3</th>\n",
       "      <th>rooms</th>\n",
       "      <th>bedrooms</th>\n",
       "      <th>bathrooms</th>\n",
       "      <th>surface_total</th>\n",
       "      <th>surface_covered</th>\n",
       "      <th>price</th>\n",
       "      <th>currency</th>\n",
       "      <th>title</th>\n",
       "      <th>description</th>\n",
       "      <th>property_type</th>\n",
       "      <th>operation_type</th>\n",
       "    </tr>\n",
       "  </thead>\n",
       "  <tbody>\n",
       "    <tr>\n",
       "      <th>0</th>\n",
       "      <td>2019-10-17</td>\n",
       "      <td>2019-12-23</td>\n",
       "      <td>2019-10-17</td>\n",
       "      <td>-34.605880</td>\n",
       "      <td>-58.384949</td>\n",
       "      <td>Argentina</td>\n",
       "      <td>Capital Federal</td>\n",
       "      <td>San Cristobal</td>\n",
       "      <td>7.0</td>\n",
       "      <td>7.0</td>\n",
       "      <td>2.0</td>\n",
       "      <td>140.0</td>\n",
       "      <td>140.0</td>\n",
       "      <td>153000.0</td>\n",
       "      <td>USD</td>\n",
       "      <td>***Venta semipiso centro, ideal hostel*****</td>\n",
       "      <td>DESCRIPCION DE LA PROPIEDAD: Departamento de 1...</td>\n",
       "      <td>Departamento</td>\n",
       "      <td>Venta</td>\n",
       "    </tr>\n",
       "    <tr>\n",
       "      <th>1</th>\n",
       "      <td>2019-10-17</td>\n",
       "      <td>2019-11-21</td>\n",
       "      <td>2019-10-17</td>\n",
       "      <td>-34.624056</td>\n",
       "      <td>-58.412110</td>\n",
       "      <td>Argentina</td>\n",
       "      <td>Capital Federal</td>\n",
       "      <td>Boedo</td>\n",
       "      <td>2.0</td>\n",
       "      <td>1.0</td>\n",
       "      <td>2.0</td>\n",
       "      <td>70.0</td>\n",
       "      <td>58.0</td>\n",
       "      <td>159000.0</td>\n",
       "      <td>USD</td>\n",
       "      <td>Espectacular PH reciclado en Boedo sin expensas.</td>\n",
       "      <td>PH reciclado en Boedo a una cuadra de la plaz...</td>\n",
       "      <td>PH</td>\n",
       "      <td>Venta</td>\n",
       "    </tr>\n",
       "    <tr>\n",
       "      <th>2</th>\n",
       "      <td>2019-10-17</td>\n",
       "      <td>2019-11-01</td>\n",
       "      <td>2019-10-17</td>\n",
       "      <td>-34.593569</td>\n",
       "      <td>-58.427474</td>\n",
       "      <td>Argentina</td>\n",
       "      <td>Capital Federal</td>\n",
       "      <td>Palermo</td>\n",
       "      <td>2.0</td>\n",
       "      <td>1.0</td>\n",
       "      <td>1.0</td>\n",
       "      <td>45.0</td>\n",
       "      <td>45.0</td>\n",
       "      <td>125000.0</td>\n",
       "      <td>USD</td>\n",
       "      <td>Depto.tipo casa de 2 ambientes en Venta en Pal...</td>\n",
       "      <td>2 ambienets amplio , excelente estado , patio ...</td>\n",
       "      <td>PH</td>\n",
       "      <td>Venta</td>\n",
       "    </tr>\n",
       "    <tr>\n",
       "      <th>3</th>\n",
       "      <td>2019-10-17</td>\n",
       "      <td>2019-12-23</td>\n",
       "      <td>2019-10-17</td>\n",
       "      <td>-34.581294</td>\n",
       "      <td>-58.436754</td>\n",
       "      <td>Argentina</td>\n",
       "      <td>Capital Federal</td>\n",
       "      <td>Palermo</td>\n",
       "      <td>2.0</td>\n",
       "      <td>1.0</td>\n",
       "      <td>1.0</td>\n",
       "      <td>85.0</td>\n",
       "      <td>50.0</td>\n",
       "      <td>295000.0</td>\n",
       "      <td>USD</td>\n",
       "      <td>COSTA RICA 5800 / PALERMO HOLLYWOOD / VENTA PH...</td>\n",
       "      <td>HERMOSO PH EN PALERMO!!!2 AMBIENTES TOTALMENTE...</td>\n",
       "      <td>PH</td>\n",
       "      <td>Venta</td>\n",
       "    </tr>\n",
       "    <tr>\n",
       "      <th>5</th>\n",
       "      <td>2019-10-17</td>\n",
       "      <td>2019-11-01</td>\n",
       "      <td>2019-10-17</td>\n",
       "      <td>-34.593779</td>\n",
       "      <td>-58.441239</td>\n",
       "      <td>Argentina</td>\n",
       "      <td>Capital Federal</td>\n",
       "      <td>Villa Crespo</td>\n",
       "      <td>2.0</td>\n",
       "      <td>1.0</td>\n",
       "      <td>1.0</td>\n",
       "      <td>56.0</td>\n",
       "      <td>56.0</td>\n",
       "      <td>150000.0</td>\n",
       "      <td>USD</td>\n",
       "      <td>Depto.tipo casa de 2 ambientes en Venta en Vil...</td>\n",
       "      <td>Excelente ph solo 2 unidades, no paga expensas...</td>\n",
       "      <td>PH</td>\n",
       "      <td>Venta</td>\n",
       "    </tr>\n",
       "  </tbody>\n",
       "</table>\n",
       "</div>"
      ],
      "text/plain": [
       "   start_date    end_date  created_on        lat        lon         l1  \\\n",
       "0  2019-10-17  2019-12-23  2019-10-17 -34.605880 -58.384949  Argentina   \n",
       "1  2019-10-17  2019-11-21  2019-10-17 -34.624056 -58.412110  Argentina   \n",
       "2  2019-10-17  2019-11-01  2019-10-17 -34.593569 -58.427474  Argentina   \n",
       "3  2019-10-17  2019-12-23  2019-10-17 -34.581294 -58.436754  Argentina   \n",
       "5  2019-10-17  2019-11-01  2019-10-17 -34.593779 -58.441239  Argentina   \n",
       "\n",
       "                l2             l3  rooms  bedrooms  bathrooms  surface_total  \\\n",
       "0  Capital Federal  San Cristobal    7.0       7.0        2.0          140.0   \n",
       "1  Capital Federal          Boedo    2.0       1.0        2.0           70.0   \n",
       "2  Capital Federal        Palermo    2.0       1.0        1.0           45.0   \n",
       "3  Capital Federal        Palermo    2.0       1.0        1.0           85.0   \n",
       "5  Capital Federal   Villa Crespo    2.0       1.0        1.0           56.0   \n",
       "\n",
       "   surface_covered     price currency  \\\n",
       "0            140.0  153000.0      USD   \n",
       "1             58.0  159000.0      USD   \n",
       "2             45.0  125000.0      USD   \n",
       "3             50.0  295000.0      USD   \n",
       "5             56.0  150000.0      USD   \n",
       "\n",
       "                                               title  \\\n",
       "0        ***Venta semipiso centro, ideal hostel*****   \n",
       "1   Espectacular PH reciclado en Boedo sin expensas.   \n",
       "2  Depto.tipo casa de 2 ambientes en Venta en Pal...   \n",
       "3  COSTA RICA 5800 / PALERMO HOLLYWOOD / VENTA PH...   \n",
       "5  Depto.tipo casa de 2 ambientes en Venta en Vil...   \n",
       "\n",
       "                                         description property_type  \\\n",
       "0  DESCRIPCION DE LA PROPIEDAD: Departamento de 1...  Departamento   \n",
       "1   PH reciclado en Boedo a una cuadra de la plaz...            PH   \n",
       "2  2 ambienets amplio , excelente estado , patio ...            PH   \n",
       "3  HERMOSO PH EN PALERMO!!!2 AMBIENTES TOTALMENTE...            PH   \n",
       "5  Excelente ph solo 2 unidades, no paga expensas...            PH   \n",
       "\n",
       "  operation_type  \n",
       "0          Venta  \n",
       "1          Venta  \n",
       "2          Venta  \n",
       "3          Venta  \n",
       "5          Venta  "
      ]
     },
     "execution_count": 7,
     "metadata": {},
     "output_type": "execute_result"
    }
   ],
   "source": [
    "data_properati = data_properati.drop(data_properati[data_properati[\"surface_covered\"]\n",
    "                                                    >data_properati[\"surface_total\"]].index)\n",
    "\n",
    "data_properati = data_properati.drop(data_properati[data_properati[\"bedrooms\"]\n",
    "                                                    >data_properati[\"rooms\"]].index)\n",
    "\n",
    "data_properati.head()"
   ]
  },
  {
   "cell_type": "code",
   "execution_count": 8,
   "metadata": {},
   "outputs": [],
   "source": [
    "data_properati = data_properati[['rooms' , 'bedrooms' , \n",
    "                               'bathrooms' , 'surface_total' , \n",
    "                               'surface_covered' , 'price' , 'property_type' ,\n",
    "                                'l3' , 'l2' , 'lat' , 'lon']]"
   ]
  },
  {
   "cell_type": "code",
   "execution_count": 9,
   "metadata": {},
   "outputs": [
    {
     "data": {
      "text/html": [
       "<div>\n",
       "<style scoped>\n",
       "    .dataframe tbody tr th:only-of-type {\n",
       "        vertical-align: middle;\n",
       "    }\n",
       "\n",
       "    .dataframe tbody tr th {\n",
       "        vertical-align: top;\n",
       "    }\n",
       "\n",
       "    .dataframe thead th {\n",
       "        text-align: right;\n",
       "    }\n",
       "</style>\n",
       "<table border=\"1\" class=\"dataframe\">\n",
       "  <thead>\n",
       "    <tr style=\"text-align: right;\">\n",
       "      <th></th>\n",
       "      <th>rooms</th>\n",
       "      <th>bedrooms</th>\n",
       "      <th>bathrooms</th>\n",
       "      <th>surface_total</th>\n",
       "      <th>surface_covered</th>\n",
       "      <th>price</th>\n",
       "      <th>property_type</th>\n",
       "      <th>l3</th>\n",
       "      <th>l2</th>\n",
       "      <th>lat</th>\n",
       "      <th>lon</th>\n",
       "    </tr>\n",
       "  </thead>\n",
       "  <tbody>\n",
       "    <tr>\n",
       "      <th>0</th>\n",
       "      <td>7.0</td>\n",
       "      <td>7.0</td>\n",
       "      <td>2.0</td>\n",
       "      <td>140.0</td>\n",
       "      <td>140.0</td>\n",
       "      <td>153000.0</td>\n",
       "      <td>Departamento</td>\n",
       "      <td>San Cristobal</td>\n",
       "      <td>Capital Federal</td>\n",
       "      <td>-34.605880</td>\n",
       "      <td>-58.384949</td>\n",
       "    </tr>\n",
       "    <tr>\n",
       "      <th>1</th>\n",
       "      <td>2.0</td>\n",
       "      <td>1.0</td>\n",
       "      <td>2.0</td>\n",
       "      <td>70.0</td>\n",
       "      <td>58.0</td>\n",
       "      <td>159000.0</td>\n",
       "      <td>PH</td>\n",
       "      <td>Boedo</td>\n",
       "      <td>Capital Federal</td>\n",
       "      <td>-34.624056</td>\n",
       "      <td>-58.412110</td>\n",
       "    </tr>\n",
       "    <tr>\n",
       "      <th>2</th>\n",
       "      <td>2.0</td>\n",
       "      <td>1.0</td>\n",
       "      <td>1.0</td>\n",
       "      <td>45.0</td>\n",
       "      <td>45.0</td>\n",
       "      <td>125000.0</td>\n",
       "      <td>PH</td>\n",
       "      <td>Palermo</td>\n",
       "      <td>Capital Federal</td>\n",
       "      <td>-34.593569</td>\n",
       "      <td>-58.427474</td>\n",
       "    </tr>\n",
       "    <tr>\n",
       "      <th>3</th>\n",
       "      <td>2.0</td>\n",
       "      <td>1.0</td>\n",
       "      <td>1.0</td>\n",
       "      <td>85.0</td>\n",
       "      <td>50.0</td>\n",
       "      <td>295000.0</td>\n",
       "      <td>PH</td>\n",
       "      <td>Palermo</td>\n",
       "      <td>Capital Federal</td>\n",
       "      <td>-34.581294</td>\n",
       "      <td>-58.436754</td>\n",
       "    </tr>\n",
       "    <tr>\n",
       "      <th>5</th>\n",
       "      <td>2.0</td>\n",
       "      <td>1.0</td>\n",
       "      <td>1.0</td>\n",
       "      <td>56.0</td>\n",
       "      <td>56.0</td>\n",
       "      <td>150000.0</td>\n",
       "      <td>PH</td>\n",
       "      <td>Villa Crespo</td>\n",
       "      <td>Capital Federal</td>\n",
       "      <td>-34.593779</td>\n",
       "      <td>-58.441239</td>\n",
       "    </tr>\n",
       "  </tbody>\n",
       "</table>\n",
       "</div>"
      ],
      "text/plain": [
       "   rooms  bedrooms  bathrooms  surface_total  surface_covered     price  \\\n",
       "0    7.0       7.0        2.0          140.0            140.0  153000.0   \n",
       "1    2.0       1.0        2.0           70.0             58.0  159000.0   \n",
       "2    2.0       1.0        1.0           45.0             45.0  125000.0   \n",
       "3    2.0       1.0        1.0           85.0             50.0  295000.0   \n",
       "5    2.0       1.0        1.0           56.0             56.0  150000.0   \n",
       "\n",
       "  property_type             l3               l2        lat        lon  \n",
       "0  Departamento  San Cristobal  Capital Federal -34.605880 -58.384949  \n",
       "1            PH          Boedo  Capital Federal -34.624056 -58.412110  \n",
       "2            PH        Palermo  Capital Federal -34.593569 -58.427474  \n",
       "3            PH        Palermo  Capital Federal -34.581294 -58.436754  \n",
       "5            PH   Villa Crespo  Capital Federal -34.593779 -58.441239  "
      ]
     },
     "execution_count": 9,
     "metadata": {},
     "output_type": "execute_result"
    }
   ],
   "source": [
    "data_properati.head()"
   ]
  },
  {
   "cell_type": "markdown",
   "metadata": {},
   "source": [
    "### Parte A - Transformación de datos"
   ]
  },
  {
   "cell_type": "markdown",
   "metadata": {},
   "source": [
    "A partir del conocimiento sobre la existencia de valores faltantes y outliers por el trabajo realizado en el proyecto anterior, aplicaré `Imputación de valores faltantes` y `Detección y eliminación de Outliers` con las nuevas herramientas adquiridas en el Bloque 2."
   ]
  },
  {
   "cell_type": "markdown",
   "metadata": {},
   "source": [
    "Evidencia de valores faltantes:"
   ]
  },
  {
   "cell_type": "code",
   "execution_count": 10,
   "metadata": {},
   "outputs": [
    {
     "name": "stdout",
     "output_type": "stream",
     "text": [
      "\u001b[92mValores faltantes por columna\u001b[0m\n",
      "rooms                 0\n",
      "bedrooms              0\n",
      "bathrooms          2163\n",
      "surface_total      8916\n",
      "surface_covered    9234\n",
      "price                 0\n",
      "property_type         0\n",
      "l3                    0\n",
      "l2                    0\n",
      "lat                4519\n",
      "lon                4533\n",
      "dtype: int64\n",
      "(90663, 11)\n"
     ]
    }
   ],
   "source": [
    "print(color.GREEN + 'Valores faltantes por columna' + color.END)\n",
    "print(pd.isna(data_properati).sum())\n",
    "print(data_properati.shape)"
   ]
  },
  {
   "cell_type": "markdown",
   "metadata": {},
   "source": [
    "Podemos observar que las columnas con valores faltantes son columnas con datos relevantes para la estimación del precio de las propiedades, según lo trabajado en el Proyecto 1. Entonces, podemos observar que estas columnas con valores faltantes son:\n",
    "* Lat\n",
    "* Lon\n",
    "* Bathrooms\n",
    "* Surface total\n",
    "* Surface covered"
   ]
  },
  {
   "cell_type": "code",
   "execution_count": 11,
   "metadata": {},
   "outputs": [
    {
     "data": {
      "text/plain": [
       "<matplotlib.axes._subplots.AxesSubplot at 0x224e35400d0>"
      ]
     },
     "execution_count": 11,
     "metadata": {},
     "output_type": "execute_result"
    },
    {
     "data": {
      "image/png": "[encoded data removed]",
      "text/plain": [
       "<Figure size 1728x720 with 3 Axes>"
      ]
     },
     "metadata": {
      "needs_background": "light"
     },
     "output_type": "display_data"
    }
   ],
   "source": [
    "import missingno as msno\n",
    "msno.bar(data_properati)"
   ]
  },
  {
   "cell_type": "markdown",
   "metadata": {},
   "source": [
    "Con respecto a \"Lat\" y \"Lon\", procederé a visualizar en que zonas existen valores faltantes, para verificar si existe alguna razón"
   ]
  },
  {
   "cell_type": "code",
   "execution_count": 12,
   "metadata": {},
   "outputs": [
    {
     "data": {
      "text/html": [
       "<div>\n",
       "<style scoped>\n",
       "    .dataframe tbody tr th:only-of-type {\n",
       "        vertical-align: middle;\n",
       "    }\n",
       "\n",
       "    .dataframe tbody tr th {\n",
       "        vertical-align: top;\n",
       "    }\n",
       "\n",
       "    .dataframe thead th {\n",
       "        text-align: right;\n",
       "    }\n",
       "</style>\n",
       "<table border=\"1\" class=\"dataframe\">\n",
       "  <thead>\n",
       "    <tr style=\"text-align: right;\">\n",
       "      <th></th>\n",
       "      <th>rooms</th>\n",
       "      <th>bedrooms</th>\n",
       "      <th>bathrooms</th>\n",
       "      <th>surface_total</th>\n",
       "      <th>surface_covered</th>\n",
       "      <th>price</th>\n",
       "      <th>property_type</th>\n",
       "      <th>l3</th>\n",
       "      <th>l2</th>\n",
       "      <th>lat</th>\n",
       "      <th>lon</th>\n",
       "    </tr>\n",
       "  </thead>\n",
       "  <tbody>\n",
       "    <tr>\n",
       "      <th>35</th>\n",
       "      <td>2.0</td>\n",
       "      <td>1.0</td>\n",
       "      <td>2.0</td>\n",
       "      <td>81.0</td>\n",
       "      <td>76.0</td>\n",
       "      <td>410000.0</td>\n",
       "      <td>Departamento</td>\n",
       "      <td>Palermo</td>\n",
       "      <td>Capital Federal</td>\n",
       "      <td>NaN</td>\n",
       "      <td>NaN</td>\n",
       "    </tr>\n",
       "    <tr>\n",
       "      <th>36</th>\n",
       "      <td>2.0</td>\n",
       "      <td>1.0</td>\n",
       "      <td>1.0</td>\n",
       "      <td>42.0</td>\n",
       "      <td>38.0</td>\n",
       "      <td>169000.0</td>\n",
       "      <td>Departamento</td>\n",
       "      <td>Palermo</td>\n",
       "      <td>Capital Federal</td>\n",
       "      <td>NaN</td>\n",
       "      <td>NaN</td>\n",
       "    </tr>\n",
       "    <tr>\n",
       "      <th>46</th>\n",
       "      <td>2.0</td>\n",
       "      <td>1.0</td>\n",
       "      <td>1.0</td>\n",
       "      <td>52.0</td>\n",
       "      <td>46.0</td>\n",
       "      <td>159500.0</td>\n",
       "      <td>Departamento</td>\n",
       "      <td>Palermo</td>\n",
       "      <td>Capital Federal</td>\n",
       "      <td>NaN</td>\n",
       "      <td>NaN</td>\n",
       "    </tr>\n",
       "    <tr>\n",
       "      <th>59</th>\n",
       "      <td>2.0</td>\n",
       "      <td>1.0</td>\n",
       "      <td>1.0</td>\n",
       "      <td>42.0</td>\n",
       "      <td>38.0</td>\n",
       "      <td>169000.0</td>\n",
       "      <td>Departamento</td>\n",
       "      <td>Palermo</td>\n",
       "      <td>Capital Federal</td>\n",
       "      <td>NaN</td>\n",
       "      <td>NaN</td>\n",
       "    </tr>\n",
       "    <tr>\n",
       "      <th>86</th>\n",
       "      <td>2.0</td>\n",
       "      <td>1.0</td>\n",
       "      <td>1.0</td>\n",
       "      <td>43.0</td>\n",
       "      <td>40.0</td>\n",
       "      <td>109000.0</td>\n",
       "      <td>Departamento</td>\n",
       "      <td>Balvanera</td>\n",
       "      <td>Capital Federal</td>\n",
       "      <td>NaN</td>\n",
       "      <td>NaN</td>\n",
       "    </tr>\n",
       "    <tr>\n",
       "      <th>...</th>\n",
       "      <td>...</td>\n",
       "      <td>...</td>\n",
       "      <td>...</td>\n",
       "      <td>...</td>\n",
       "      <td>...</td>\n",
       "      <td>...</td>\n",
       "      <td>...</td>\n",
       "      <td>...</td>\n",
       "      <td>...</td>\n",
       "      <td>...</td>\n",
       "      <td>...</td>\n",
       "    </tr>\n",
       "    <tr>\n",
       "      <th>146546</th>\n",
       "      <td>3.0</td>\n",
       "      <td>2.0</td>\n",
       "      <td>2.0</td>\n",
       "      <td>89.0</td>\n",
       "      <td>82.0</td>\n",
       "      <td>434999.0</td>\n",
       "      <td>Departamento</td>\n",
       "      <td>Palermo</td>\n",
       "      <td>Capital Federal</td>\n",
       "      <td>NaN</td>\n",
       "      <td>NaN</td>\n",
       "    </tr>\n",
       "    <tr>\n",
       "      <th>146547</th>\n",
       "      <td>3.0</td>\n",
       "      <td>2.0</td>\n",
       "      <td>2.0</td>\n",
       "      <td>82.0</td>\n",
       "      <td>82.0</td>\n",
       "      <td>585000.0</td>\n",
       "      <td>Departamento</td>\n",
       "      <td>Palermo</td>\n",
       "      <td>Capital Federal</td>\n",
       "      <td>NaN</td>\n",
       "      <td>NaN</td>\n",
       "    </tr>\n",
       "    <tr>\n",
       "      <th>146548</th>\n",
       "      <td>3.0</td>\n",
       "      <td>2.0</td>\n",
       "      <td>2.0</td>\n",
       "      <td>82.0</td>\n",
       "      <td>82.0</td>\n",
       "      <td>475000.0</td>\n",
       "      <td>Departamento</td>\n",
       "      <td>Palermo</td>\n",
       "      <td>Capital Federal</td>\n",
       "      <td>NaN</td>\n",
       "      <td>NaN</td>\n",
       "    </tr>\n",
       "    <tr>\n",
       "      <th>146550</th>\n",
       "      <td>5.0</td>\n",
       "      <td>2.0</td>\n",
       "      <td>2.0</td>\n",
       "      <td>114.0</td>\n",
       "      <td>95.0</td>\n",
       "      <td>298000.0</td>\n",
       "      <td>PH</td>\n",
       "      <td>Palermo</td>\n",
       "      <td>Capital Federal</td>\n",
       "      <td>NaN</td>\n",
       "      <td>NaN</td>\n",
       "    </tr>\n",
       "    <tr>\n",
       "      <th>146558</th>\n",
       "      <td>4.0</td>\n",
       "      <td>3.0</td>\n",
       "      <td>5.0</td>\n",
       "      <td>220.0</td>\n",
       "      <td>210.0</td>\n",
       "      <td>1470000.0</td>\n",
       "      <td>Departamento</td>\n",
       "      <td>Palermo</td>\n",
       "      <td>Capital Federal</td>\n",
       "      <td>NaN</td>\n",
       "      <td>NaN</td>\n",
       "    </tr>\n",
       "  </tbody>\n",
       "</table>\n",
       "<p>14500 rows × 11 columns</p>\n",
       "</div>"
      ],
      "text/plain": [
       "        rooms  bedrooms  bathrooms  surface_total  surface_covered      price  \\\n",
       "35        2.0       1.0        2.0           81.0             76.0   410000.0   \n",
       "36        2.0       1.0        1.0           42.0             38.0   169000.0   \n",
       "46        2.0       1.0        1.0           52.0             46.0   159500.0   \n",
       "59        2.0       1.0        1.0           42.0             38.0   169000.0   \n",
       "86        2.0       1.0        1.0           43.0             40.0   109000.0   \n",
       "...       ...       ...        ...            ...              ...        ...   \n",
       "146546    3.0       2.0        2.0           89.0             82.0   434999.0   \n",
       "146547    3.0       2.0        2.0           82.0             82.0   585000.0   \n",
       "146548    3.0       2.0        2.0           82.0             82.0   475000.0   \n",
       "146550    5.0       2.0        2.0          114.0             95.0   298000.0   \n",
       "146558    4.0       3.0        5.0          220.0            210.0  1470000.0   \n",
       "\n",
       "       property_type         l3               l2  lat  lon  \n",
       "35      Departamento    Palermo  Capital Federal  NaN  NaN  \n",
       "36      Departamento    Palermo  Capital Federal  NaN  NaN  \n",
       "46      Departamento    Palermo  Capital Federal  NaN  NaN  \n",
       "59      Departamento    Palermo  Capital Federal  NaN  NaN  \n",
       "86      Departamento  Balvanera  Capital Federal  NaN  NaN  \n",
       "...              ...        ...              ...  ...  ...  \n",
       "146546  Departamento    Palermo  Capital Federal  NaN  NaN  \n",
       "146547  Departamento    Palermo  Capital Federal  NaN  NaN  \n",
       "146548  Departamento    Palermo  Capital Federal  NaN  NaN  \n",
       "146550            PH    Palermo  Capital Federal  NaN  NaN  \n",
       "146558  Departamento    Palermo  Capital Federal  NaN  NaN  \n",
       "\n",
       "[14500 rows x 11 columns]"
      ]
     },
     "execution_count": 12,
     "metadata": {},
     "output_type": "execute_result"
    }
   ],
   "source": [
    "data_properati.loc[data_properati.isnull().any(axis=1)]"
   ]
  },
  {
   "cell_type": "code",
   "execution_count": 13,
   "metadata": {},
   "outputs": [
    {
     "name": "stdout",
     "output_type": "stream",
     "text": [
      "        rooms  bedrooms  bathrooms  surface_total  surface_covered      price  \\\n",
      "35        2.0       1.0        2.0           81.0             76.0   410000.0   \n",
      "36        2.0       1.0        1.0           42.0             38.0   169000.0   \n",
      "46        2.0       1.0        1.0           52.0             46.0   159500.0   \n",
      "59        2.0       1.0        1.0           42.0             38.0   169000.0   \n",
      "86        2.0       1.0        1.0           43.0             40.0   109000.0   \n",
      "...       ...       ...        ...            ...              ...        ...   \n",
      "146546    3.0       2.0        2.0           89.0             82.0   434999.0   \n",
      "146547    3.0       2.0        2.0           82.0             82.0   585000.0   \n",
      "146548    3.0       2.0        2.0           82.0             82.0   475000.0   \n",
      "146550    5.0       2.0        2.0          114.0             95.0   298000.0   \n",
      "146558    4.0       3.0        5.0          220.0            210.0  1470000.0   \n",
      "\n",
      "       property_type         l3               l2  lat  lon  \n",
      "35      Departamento    Palermo  Capital Federal  NaN  NaN  \n",
      "36      Departamento    Palermo  Capital Federal  NaN  NaN  \n",
      "46      Departamento    Palermo  Capital Federal  NaN  NaN  \n",
      "59      Departamento    Palermo  Capital Federal  NaN  NaN  \n",
      "86      Departamento  Balvanera  Capital Federal  NaN  NaN  \n",
      "...              ...        ...              ...  ...  ...  \n",
      "146546  Departamento    Palermo  Capital Federal  NaN  NaN  \n",
      "146547  Departamento    Palermo  Capital Federal  NaN  NaN  \n",
      "146548  Departamento    Palermo  Capital Federal  NaN  NaN  \n",
      "146550            PH    Palermo  Capital Federal  NaN  NaN  \n",
      "146558  Departamento    Palermo  Capital Federal  NaN  NaN  \n",
      "\n",
      "[14500 rows x 11 columns]\n"
     ]
    }
   ],
   "source": [
    "null_data = data_properati[data_properati.isnull().any(axis=1)]\n",
    "print(null_data)"
   ]
  },
  {
   "cell_type": "code",
   "execution_count": 14,
   "metadata": {},
   "outputs": [
    {
     "data": {
      "text/plain": [
       "Text(0, 0.5, 'Cant. faltantes')"
      ]
     },
     "execution_count": 14,
     "metadata": {},
     "output_type": "execute_result"
    },
    {
     "data": {
      "image/png": "[encoded data removed]",
      "text/plain": [
       "<Figure size 720x720 with 1 Axes>"
      ]
     },
     "metadata": {
      "needs_background": "light"
     },
     "output_type": "display_data"
    }
   ],
   "source": [
    "plt.figure(figsize = (10,10))\n",
    "sns.countplot(x = 'l3' , data = null_data)\n",
    "plt.xticks(rotation = 90)\n",
    "plt.xlabel('Barrio')\n",
    "plt.ylabel('Cant. faltantes')"
   ]
  },
  {
   "cell_type": "markdown",
   "metadata": {},
   "source": [
    "Podemos observar que los valores faltantes se concentran alrededor de aquellos barrios con inmuebles de mayor valor, razón por la cual infiero que los valores faltantes son `Missing Not At Random (MNAR)`.\n",
    "La metodología elegida para tratar con los valores faltantes es eliminar aquellos datos que presenten problemas."
   ]
  },
  {
   "cell_type": "code",
   "execution_count": 15,
   "metadata": {},
   "outputs": [
    {
     "name": "stdout",
     "output_type": "stream",
     "text": [
      "rooms              0\n",
      "bedrooms           0\n",
      "bathrooms          0\n",
      "surface_total      0\n",
      "surface_covered    0\n",
      "price              0\n",
      "property_type      0\n",
      "l3                 0\n",
      "l2                 0\n",
      "lat                0\n",
      "lon                0\n",
      "dtype: int64\n",
      "(76163, 11)\n"
     ]
    }
   ],
   "source": [
    "data_properati = data_properati.dropna()\n",
    "print(pd.isna(data_properati).sum())\n",
    "print(data_properati.shape)"
   ]
  },
  {
   "cell_type": "markdown",
   "metadata": {},
   "source": [
    "Proseguiré con la eliminación de Outliers. Primero presentaré boxplots de distintas variables para identificar la existencia de outliers."
   ]
  },
  {
   "cell_type": "code",
   "execution_count": 16,
   "metadata": {},
   "outputs": [
    {
     "name": "stdout",
     "output_type": "stream",
     "text": [
      "\u001b[93mBoxplots de superficie total y superficie cubierta\u001b[0m\n"
     ]
    },
    {
     "data": {
      "text/plain": [
       "<matplotlib.axes._subplots.AxesSubplot at 0x224e4f77970>"
      ]
     },
     "execution_count": 16,
     "metadata": {},
     "output_type": "execute_result"
    },
    {
     "data": {
      "image/png": "[encoded data removed]",
      "text/plain": [
       "<Figure size 720x720 with 1 Axes>"
      ]
     },
     "metadata": {
      "needs_background": "light"
     },
     "output_type": "display_data"
    },
    {
     "data": {
      "image/png": "[encoded data removed]",
      "text/plain": [
       "<Figure size 720x720 with 1 Axes>"
      ]
     },
     "metadata": {
      "needs_background": "light"
     },
     "output_type": "display_data"
    }
   ],
   "source": [
    "print(color.YELLOW + 'Boxplots de superficie total y superficie cubierta' + color.END)\n",
    "plt.figure(figsize = (10,10))\n",
    "plt.subplot(2,1,1)\n",
    "sns.boxplot(x = 'surface_total', data = data_properati)\n",
    "plt.figure(figsize = (10,10))\n",
    "plt.subplot(2,1,2)\n",
    "sns.boxplot(x = 'surface_covered', data = data_properati)"
   ]
  },
  {
   "cell_type": "code",
   "execution_count": 17,
   "metadata": {},
   "outputs": [
    {
     "name": "stdout",
     "output_type": "stream",
     "text": [
      "\u001b[92mBoxplots de precio\u001b[0m\n"
     ]
    },
    {
     "data": {
      "text/plain": [
       "<Figure size 720x720 with 0 Axes>"
      ]
     },
     "execution_count": 17,
     "metadata": {},
     "output_type": "execute_result"
    },
    {
     "data": {
      "image/png": "[encoded data removed]",
      "text/plain": [
       "<Figure size 432x288 with 1 Axes>"
      ]
     },
     "metadata": {
      "needs_background": "light"
     },
     "output_type": "display_data"
    },
    {
     "data": {
      "text/plain": [
       "<Figure size 720x720 with 0 Axes>"
      ]
     },
     "metadata": {},
     "output_type": "display_data"
    }
   ],
   "source": [
    "print(color.GREEN + 'Boxplots de precio' + color.END)\n",
    "sns.boxplot(x = 'price', data = data_properati)\n",
    "plt.figure(figsize = (10,10))"
   ]
  },
  {
   "cell_type": "code",
   "execution_count": 18,
   "metadata": {},
   "outputs": [
    {
     "name": "stdout",
     "output_type": "stream",
     "text": [
      "\u001b[93mBoxplots de ambientes\u001b[0m\n"
     ]
    },
    {
     "data": {
      "text/plain": [
       "<matplotlib.axes._subplots.AxesSubplot at 0x224e4fc1d60>"
      ]
     },
     "execution_count": 18,
     "metadata": {},
     "output_type": "execute_result"
    },
    {
     "data": {
      "image/png": "[encoded data removed]",
      "text/plain": [
       "<Figure size 720x720 with 1 Axes>"
      ]
     },
     "metadata": {
      "needs_background": "light"
     },
     "output_type": "display_data"
    },
    {
     "data": {
      "image/png": "[encoded data removed]",
      "text/plain": [
       "<Figure size 720x720 with 1 Axes>"
      ]
     },
     "metadata": {
      "needs_background": "light"
     },
     "output_type": "display_data"
    },
    {
     "data": {
      "image/png": "[encoded data removed]",
      "text/plain": [
       "<Figure size 720x720 with 1 Axes>"
      ]
     },
     "metadata": {
      "needs_background": "light"
     },
     "output_type": "display_data"
    }
   ],
   "source": [
    "print(color.YELLOW + 'Boxplots de ambientes' + color.END)\n",
    "plt.figure(figsize = (10,10))\n",
    "plt.subplot(3,1,1)\n",
    "sns.boxplot(x = 'rooms', data = data_properati)\n",
    "plt.figure(figsize = (10,10))\n",
    "plt.subplot(3,1,2)\n",
    "sns.boxplot(x = 'bedrooms', data = data_properati)\n",
    "plt.figure(figsize = (10,10))\n",
    "plt.subplot(3,1,3)\n",
    "sns.boxplot(x = 'bathrooms', data = data_properati)"
   ]
  },
  {
   "cell_type": "markdown",
   "metadata": {},
   "source": [
    "Efectivamente los boxplots nos muestran la existencia de outliers en las variables de referencia, por lo que a continuación procederé a eliminarlos mediante el criterio del `Rango intercuartílico`."
   ]
  },
  {
   "cell_type": "markdown",
   "metadata": {},
   "source": [
    "**Elimino outliers de superficie cubierta y total**"
   ]
  },
  {
   "cell_type": "code",
   "execution_count": 19,
   "metadata": {},
   "outputs": [],
   "source": [
    "Q1 = data_properati['surface_total'].quantile(0.25)\n",
    "Q3 = data_properati['surface_total'].quantile(0.75)\n",
    "IQR = Q3 - Q1\n",
    "data_properati = data_properati.drop(data_properati[data_properati['surface_total'] > Q3+1.5*IQR].index)"
   ]
  },
  {
   "cell_type": "markdown",
   "metadata": {},
   "source": [
    "**Elimino outliers de precios**"
   ]
  },
  {
   "cell_type": "code",
   "execution_count": 20,
   "metadata": {},
   "outputs": [],
   "source": [
    "Q1 = data_properati['price'].quantile(0.25)\n",
    "Q3 = data_properati['price'].quantile(0.75)\n",
    "IQR = Q3 - Q1\n",
    "data_properati = data_properati.drop(data_properati[data_properati['price'] > Q3+1.5*IQR].index)"
   ]
  },
  {
   "cell_type": "markdown",
   "metadata": {},
   "source": [
    "**Elimino outliers de ambientes**"
   ]
  },
  {
   "cell_type": "code",
   "execution_count": 21,
   "metadata": {},
   "outputs": [],
   "source": [
    "Q1 = data_properati['rooms'].quantile(0.25)\n",
    "Q3 = data_properati['rooms'].quantile(0.75)\n",
    "IQR = Q3 - Q1\n",
    "data_properati = data_properati.drop(data_properati[data_properati['rooms'] > Q3+1.5*IQR].index)"
   ]
  },
  {
   "cell_type": "markdown",
   "metadata": {},
   "source": [
    "**Elimino outliers de habitaciones**"
   ]
  },
  {
   "cell_type": "code",
   "execution_count": 22,
   "metadata": {},
   "outputs": [],
   "source": [
    "Q1 = data_properati['bedrooms'].quantile(0.25)\n",
    "Q3 = data_properati['bedrooms'].quantile(0.75)\n",
    "IQR = Q3 - Q1\n",
    "data_properati = data_properati.drop(data_properati[data_properati['bedrooms'] > Q3+1.5*IQR].index)"
   ]
  },
  {
   "cell_type": "markdown",
   "metadata": {},
   "source": [
    "Dado que baños solamente presenta outliers superiores a Q3, no utilizaré el mismo método ya que de esa forma eliminaría la gran mayoría de los datos.\n",
    "Los eliminaré de forma manual:"
   ]
  },
  {
   "cell_type": "code",
   "execution_count": 23,
   "metadata": {},
   "outputs": [],
   "source": [
    "data_properati = data_properati.drop(data_properati[data_properati['bathrooms'] > 8].index)"
   ]
  },
  {
   "cell_type": "code",
   "execution_count": 24,
   "metadata": {},
   "outputs": [
    {
     "name": "stdout",
     "output_type": "stream",
     "text": [
      "\u001b[93mBoxplots de superficie total y superficie cubierta\u001b[0m\n"
     ]
    },
    {
     "data": {
      "text/plain": [
       "<matplotlib.axes._subplots.AxesSubplot at 0x224e4c98d60>"
      ]
     },
     "execution_count": 24,
     "metadata": {},
     "output_type": "execute_result"
    },
    {
     "data": {
      "image/png": "[encoded data removed]",
      "text/plain": [
       "<Figure size 720x720 with 1 Axes>"
      ]
     },
     "metadata": {
      "needs_background": "light"
     },
     "output_type": "display_data"
    },
    {
     "data": {
      "image/png": "[encoded data removed]",
      "text/plain": [
       "<Figure size 720x720 with 1 Axes>"
      ]
     },
     "metadata": {
      "needs_background": "light"
     },
     "output_type": "display_data"
    }
   ],
   "source": [
    "print(color.YELLOW + 'Boxplots de superficie total y superficie cubierta' + color.END)\n",
    "plt.figure(figsize = (10,10))\n",
    "plt.subplot(2,1,1)\n",
    "sns.boxplot(x = 'surface_total', data = data_properati)\n",
    "plt.figure(figsize = (10,10))\n",
    "plt.subplot(2,1,2)\n",
    "sns.boxplot(x = 'surface_covered', data = data_properati)"
   ]
  },
  {
   "cell_type": "code",
   "execution_count": 25,
   "metadata": {},
   "outputs": [
    {
     "name": "stdout",
     "output_type": "stream",
     "text": [
      "\u001b[92mBoxplots de precio\u001b[0m\n"
     ]
    },
    {
     "data": {
      "text/plain": [
       "<Figure size 720x720 with 0 Axes>"
      ]
     },
     "execution_count": 25,
     "metadata": {},
     "output_type": "execute_result"
    },
    {
     "data": {
      "image/png": "[encoded data removed]",
      "text/plain": [
       "<Figure size 432x288 with 1 Axes>"
      ]
     },
     "metadata": {
      "needs_background": "light"
     },
     "output_type": "display_data"
    },
    {
     "data": {
      "text/plain": [
       "<Figure size 720x720 with 0 Axes>"
      ]
     },
     "metadata": {},
     "output_type": "display_data"
    }
   ],
   "source": [
    "print(color.GREEN + 'Boxplots de precio' + color.END)\n",
    "sns.boxplot(x = 'price', data = data_properati)\n",
    "plt.figure(figsize = (10,10))"
   ]
  },
  {
   "cell_type": "code",
   "execution_count": 26,
   "metadata": {},
   "outputs": [
    {
     "name": "stdout",
     "output_type": "stream",
     "text": [
      "\u001b[93mBoxplots de ambientes\u001b[0m\n"
     ]
    },
    {
     "data": {
      "text/plain": [
       "<matplotlib.axes._subplots.AxesSubplot at 0x224e4df4340>"
      ]
     },
     "execution_count": 26,
     "metadata": {},
     "output_type": "execute_result"
    },
    {
     "data": {
      "image/png": "[encoded data removed]",
      "text/plain": [
       "<Figure size 720x720 with 1 Axes>"
      ]
     },
     "metadata": {
      "needs_background": "light"
     },
     "output_type": "display_data"
    },
    {
     "data": {
      "image/png": "[encoded data removed]",
      "text/plain": [
       "<Figure size 720x720 with 1 Axes>"
      ]
     },
     "metadata": {
      "needs_background": "light"
     },
     "output_type": "display_data"
    },
    {
     "data": {
      "image/png": "[encoded data removed]",
      "text/plain": [
       "<Figure size 720x720 with 1 Axes>"
      ]
     },
     "metadata": {
      "needs_background": "light"
     },
     "output_type": "display_data"
    }
   ],
   "source": [
    "print(color.YELLOW + 'Boxplots de ambientes' + color.END)\n",
    "plt.figure(figsize = (10,10))\n",
    "plt.subplot(3,1,1)\n",
    "sns.boxplot(x = 'rooms', data = data_properati)\n",
    "plt.figure(figsize = (10,10))\n",
    "plt.subplot(3,1,2)\n",
    "sns.boxplot(x = 'bedrooms', data = data_properati)\n",
    "plt.figure(figsize = (10,10))\n",
    "plt.subplot(3,1,3)\n",
    "sns.boxplot(x = 'bathrooms', data = data_properati)"
   ]
  },
  {
   "cell_type": "markdown",
   "metadata": {},
   "source": [
    "Procederé a continuación a realizar escalado de datos. El objetivo es estandarizar los datos contenidos en el dataset que tienen distintas unidades de medidas. Por ejemplo la cantidad de habitaciones o baños se cuenta por unidad y la superficie en m2."
   ]
  },
  {
   "cell_type": "markdown",
   "metadata": {},
   "source": [
    "Primero, importo la librería necesaría para utilizar la clase `StandardScaler` de Scikit-Learn:"
   ]
  },
  {
   "cell_type": "code",
   "execution_count": 27,
   "metadata": {},
   "outputs": [],
   "source": [
    "from sklearn.preprocessing import StandardScaler"
   ]
  },
  {
   "cell_type": "markdown",
   "metadata": {},
   "source": [
    "A continuación defino las variables X e y que serán utilizadas posteriormente en los modelos de ML: "
   ]
  },
  {
   "cell_type": "code",
   "execution_count": 28,
   "metadata": {},
   "outputs": [],
   "source": [
    "X = data_properati[['rooms' , 'bedrooms' , 'bathrooms' , \n",
    "                  'surface_total' , 'surface_covered' , \n",
    "                 'lat' , 'lon']]\n",
    "y = data_properati.price"
   ]
  },
  {
   "cell_type": "markdown",
   "metadata": {},
   "source": [
    "Realizo el reescalado de los datos:"
   ]
  },
  {
   "cell_type": "code",
   "execution_count": 29,
   "metadata": {},
   "outputs": [],
   "source": [
    "scl = StandardScaler()\n",
    "X = scl.fit_transform(X)"
   ]
  },
  {
   "cell_type": "markdown",
   "metadata": {},
   "source": [
    "Ahora toca evaluar el desempeño de los datos en modelos de ML. Lo haré con un modelo de árboles de decisión y con uno de K vecinos más cercanos."
   ]
  },
  {
   "cell_type": "markdown",
   "metadata": {},
   "source": [
    "Realizo el \"train_test_split\":"
   ]
  },
  {
   "cell_type": "code",
   "execution_count": 30,
   "metadata": {},
   "outputs": [],
   "source": [
    "from sklearn.model_selection import train_test_split\n",
    "\n",
    "X_train, X_test, y_train, y_test = train_test_split(X, y, test_size=0.30, random_state=42 , \n",
    "                                                    stratify = data_properati.property_type)"
   ]
  },
  {
   "cell_type": "markdown",
   "metadata": {},
   "source": [
    "Importo las librerías necesarias:"
   ]
  },
  {
   "cell_type": "code",
   "execution_count": 31,
   "metadata": {},
   "outputs": [],
   "source": [
    "from sklearn.tree import DecisionTreeRegressor\n",
    "from sklearn.neighbors import KNeighborsRegressor\n",
    "from sklearn.metrics import mean_squared_error\n",
    "from sklearn.metrics import r2_score"
   ]
  },
  {
   "cell_type": "markdown",
   "metadata": {},
   "source": [
    "Entreno el modelo de árboles de decisión:"
   ]
  },
  {
   "cell_type": "code",
   "execution_count": 32,
   "metadata": {},
   "outputs": [],
   "source": [
    "properati_tree = DecisionTreeRegressor(max_depth=5, random_state=42)\n",
    "properati_tree.fit(X_train, y_train)\n",
    "y_train_pred = properati_tree.predict(X_train)\n",
    "y_test_pred = properati_tree.predict(X_test)"
   ]
  },
  {
   "cell_type": "markdown",
   "metadata": {},
   "source": [
    "Cálculo y gráfico el RMSE obtenido:"
   ]
  },
  {
   "cell_type": "code",
   "execution_count": 33,
   "metadata": {},
   "outputs": [
    {
     "name": "stdout",
     "output_type": "stream",
     "text": [
      "Raíz del error cuadrático medio en Train: 43833.63210701749\n",
      "Raíz del error cuadrático medio en Test: 44316.704649432075\n",
      "R2 Score en Train: 0.7191958916525221\n",
      "R2 Score en Test: 0.7163058244731527\n"
     ]
    },
    {
     "data": {
      "image/png": "[encoded data removed]",
      "text/plain": [
       "<Figure size 576x288 with 2 Axes>"
      ]
     },
     "metadata": {
      "needs_background": "light"
     },
     "output_type": "display_data"
    }
   ],
   "source": [
    "rmse_train = np.sqrt(mean_squared_error(y_train, y_train_pred))\n",
    "rmse_test = np.sqrt(mean_squared_error(y_test, y_test_pred))\n",
    "print(f'Raíz del error cuadrático medio en Train: {rmse_train}')\n",
    "print(f'Raíz del error cuadrático medio en Test: {rmse_test}')\n",
    "r2_train = r2_score(y_train,y_train_pred)\n",
    "r2_test = r2_score(y_test,y_test_pred)\n",
    "print('R2 Score en Train:' , r2_train)  \n",
    "print('R2 Score en Test:' , r2_test)\n",
    "\n",
    "plt.figure(figsize = (8,4))\n",
    "\n",
    "plt.subplot(1,2,1)\n",
    "sns.distplot(y_train - y_train_pred , bins = 20, label = 'train')\n",
    "sns.distplot(y_test - y_test_pred , bins = 20, label = 'test')\n",
    "plt.xlabel('Errores')\n",
    "plt.legend()\n",
    "\n",
    "ax = plt.subplot(1,2,2)\n",
    "ax.scatter(y_test , y_test_pred , s =2)\n",
    "    \n",
    "lims = [\n",
    "np.min([ax.get_xlim() , ax.get_ylim()]),  \n",
    "np.max([ax.get_xlim() , ax.get_ylim()]),  \n",
    "]\n",
    "    \n",
    "ax.plot(lims, lims, 'k-', alpha=0.5, zorder=0)\n",
    "plt.xlabel('y (test)')\n",
    "plt.ylabel('y_pred (test)')\n",
    "    \n",
    "plt.tight_layout()\n",
    "plt.show()"
   ]
  },
  {
   "cell_type": "markdown",
   "metadata": {},
   "source": [
    "Se puede observar una mejora en el desempeño del modelo, en comparación al realizado con los mismo hiperparámetros en el Proyecto 1, a saber:\n",
    "- RMSE Train Proyecto 1: 157056.39909474397\n",
    "- RMSE Test Proyecto 1: 166565.76941660585"
   ]
  },
  {
   "cell_type": "markdown",
   "metadata": {},
   "source": [
    "Ahora seguiré con el modelo de K vecinos más cercanos. Utilizaré los hiperparámetros definidos en el último ML entrenado en el proyecto anterior."
   ]
  },
  {
   "cell_type": "code",
   "execution_count": 34,
   "metadata": {},
   "outputs": [
    {
     "data": {
      "text/plain": [
       "KNeighborsRegressor(algorithm='auto', leaf_size=30, metric='minkowski',\n",
       "                    metric_params=None, n_jobs=None, n_neighbors=8, p=2,\n",
       "                    weights='uniform')"
      ]
     },
     "execution_count": 34,
     "metadata": {},
     "output_type": "execute_result"
    }
   ],
   "source": [
    "properati_knn = KNeighborsRegressor(n_neighbors=8)\n",
    "properati_knn.fit(X_train, y_train)"
   ]
  },
  {
   "cell_type": "code",
   "execution_count": 35,
   "metadata": {},
   "outputs": [],
   "source": [
    "y_train_pred = properati_knn.predict(X_train)\n",
    "y_test_pred = properati_knn.predict(X_test)"
   ]
  },
  {
   "cell_type": "code",
   "execution_count": 36,
   "metadata": {},
   "outputs": [
    {
     "name": "stdout",
     "output_type": "stream",
     "text": [
      "Raíz del error cuadrático medio en Train: 27742.129221273335\n",
      "Raíz del error cuadrático medio en Test: 32199.927474604992\n",
      "R2 Score en Train: 0.8875218611542524\n",
      "R2 Score en Test: 0.8502298419291502\n"
     ]
    },
    {
     "data": {
      "image/png": "[encoded data removed]",
      "text/plain": [
       "<Figure size 576x288 with 2 Axes>"
      ]
     },
     "metadata": {
      "needs_background": "light"
     },
     "output_type": "display_data"
    }
   ],
   "source": [
    "rmse_train = np.sqrt(mean_squared_error(y_train, y_train_pred))\n",
    "rmse_test = np.sqrt(mean_squared_error(y_test, y_test_pred))\n",
    "print(f'Raíz del error cuadrático medio en Train: {rmse_train}')\n",
    "print(f'Raíz del error cuadrático medio en Test: {rmse_test}')\n",
    "r2_train = r2_score(y_train,y_train_pred)\n",
    "r2_test = r2_score(y_test,y_test_pred)\n",
    "print('R2 Score en Train:' , r2_train)  \n",
    "print('R2 Score en Test:' , r2_test)\n",
    "   \n",
    "    \n",
    "plt.figure(figsize = (8,4))\n",
    "\n",
    "plt.subplot(1,2,1)\n",
    "sns.distplot(y_train - y_train_pred, bins = 20, label = 'train')\n",
    "sns.distplot(y_test - y_test_pred, bins = 20, label = 'test')\n",
    "plt.xlabel('Errores')\n",
    "plt.xticks(rotation = 45)\n",
    "plt.legend()\n",
    "\n",
    "ax = plt.subplot(1,2,2)\n",
    "ax.scatter(y_test,y_test_pred, s =2)\n",
    "    \n",
    "lims = [\n",
    "np.min([ax.get_xlim(), ax.get_ylim()]),  \n",
    "np.max([ax.get_xlim(), ax.get_ylim()]),  \n",
    "]\n",
    "    \n",
    "ax.plot(lims, lims, 'k-', alpha=0.75, zorder=0)\n",
    "plt.xlabel('y (test)')\n",
    "plt.ylabel('y_pred (test)')\n",
    "    \n",
    "plt.tight_layout()\n",
    "plt.show()"
   ]
  },
  {
   "cell_type": "markdown",
   "metadata": {},
   "source": [
    "El RMSE obtenido nos permite observar una mejora respecto de lo obtenido anteriormente:\n",
    "- RMSE en Train: 129824.2509794574\n",
    "- RMSE en Test: 148350.41619468026"
   ]
  },
  {
   "cell_type": "markdown",
   "metadata": {},
   "source": [
    "### Parte B - Modelos Avanzados"
   ]
  },
  {
   "cell_type": "markdown",
   "metadata": {},
   "source": [
    "Los modelos avandos elegidos son:\n",
    "- `RandomForest`\n",
    "- `XGBoost`\n"
   ]
  },
  {
   "cell_type": "code",
   "execution_count": 37,
   "metadata": {},
   "outputs": [],
   "source": [
    "X = data_properati[['rooms' , 'bedrooms' , 'bathrooms' , \n",
    "                  'surface_total' , 'surface_covered' , \n",
    "                 'lat' , 'lon']]\n",
    "y = data_properati.price"
   ]
  },
  {
   "cell_type": "code",
   "execution_count": 38,
   "metadata": {},
   "outputs": [],
   "source": [
    "X_train, X_test, y_train, y_test = train_test_split(X, y, test_size=0.30, random_state=42, \n",
    "                                                    stratify = data_properati.property_type)"
   ]
  },
  {
   "cell_type": "markdown",
   "metadata": {},
   "source": [
    "## RandomForest"
   ]
  },
  {
   "cell_type": "markdown",
   "metadata": {},
   "source": [
    "Importo las librerías necesarias:"
   ]
  },
  {
   "cell_type": "code",
   "execution_count": 39,
   "metadata": {},
   "outputs": [],
   "source": [
    "from sklearn.ensemble import RandomForestRegressor\n",
    "import sklearn.metrics as metrics\n",
    "from sklearn.model_selection import cross_val_score"
   ]
  },
  {
   "cell_type": "markdown",
   "metadata": {},
   "source": [
    "Defino el modelo y lo entreno:"
   ]
  },
  {
   "cell_type": "code",
   "execution_count": 40,
   "metadata": {},
   "outputs": [
    {
     "data": {
      "text/plain": [
       "RandomForestRegressor(bootstrap=True, ccp_alpha=0.0, criterion='mse',\n",
       "                      max_depth=10, max_features='auto', max_leaf_nodes=None,\n",
       "                      max_samples=None, min_impurity_decrease=0.0,\n",
       "                      min_impurity_split=None, min_samples_leaf=1,\n",
       "                      min_samples_split=2, min_weight_fraction_leaf=0.0,\n",
       "                      n_estimators=50, n_jobs=-1, oob_score=True,\n",
       "                      random_state=42, verbose=0, warm_start=False)"
      ]
     },
     "execution_count": 40,
     "metadata": {},
     "output_type": "execute_result"
    }
   ],
   "source": [
    "rfr = RandomForestRegressor(n_estimators = 50, max_depth = 10 , n_jobs = -1 , oob_score = True, random_state = 42)\n",
    "rfr.fit(X_train,y_train)"
   ]
  },
  {
   "cell_type": "markdown",
   "metadata": {},
   "source": [
    "A continuación realizo la predicción de \"y\" y calculo las métricas para evaluar el desempeño del modelo:"
   ]
  },
  {
   "cell_type": "code",
   "execution_count": 116,
   "metadata": {},
   "outputs": [
    {
     "name": "stdout",
     "output_type": "stream",
     "text": [
      "Raíz del error cuadrático medio en Train: 29532.431350971965\n",
      "Raíz del error cuadrático medio en Test: 32326.332397088245\n",
      "R2 Score en Train: 0.8725361749267183\n",
      "R2 Score en Test: 0.8490516501702544\n"
     ]
    }
   ],
   "source": [
    "y_train_pred_rfr = rfr.predict(X_train)\n",
    "y_test_pred_rfr = rfr.predict(X_test)\n",
    "rfr_rmse_train = np.sqrt(mean_squared_error(y_train, y_train_pred_rfr))\n",
    "rfr_rmse_test = np.sqrt(mean_squared_error(y_test, y_test_pred_rfr))\n",
    "print(f'Raíz del error cuadrático medio en Train: {rfr_rmse_train}')\n",
    "print(f'Raíz del error cuadrático medio en Test: {rfr_rmse_test}')\n",
    "rfr_r2_train = r2_score(y_train,y_train_pred_rfr)\n",
    "rfr_r2_test = r2_score(y_test,y_test_pred_rfr)\n",
    "print('R2 Score en Train:' , rfr_r2_train)  \n",
    "print('R2 Score en Test:' , rfr_r2_test)"
   ]
  },
  {
   "cell_type": "markdown",
   "metadata": {},
   "source": [
    "Se puede observar una mejora en cuanto a los resultados obtenidos en la primera sección con el modelo de Árboles de Decisión.\n",
    "A continuación utilizaré `Random Search` para optimizar los hiperparámetros del modelo realizado:"
   ]
  },
  {
   "cell_type": "markdown",
   "metadata": {},
   "source": [
    "#### Optimización de hiperparámetros a través de RandomizedSearchCV"
   ]
  },
  {
   "cell_type": "code",
   "execution_count": 42,
   "metadata": {},
   "outputs": [
    {
     "name": "stdout",
     "output_type": "stream",
     "text": [
      "Parameters currently in use:\n",
      "\n",
      "{'bootstrap': True,\n",
      " 'ccp_alpha': 0.0,\n",
      " 'criterion': 'mse',\n",
      " 'max_depth': 10,\n",
      " 'max_features': 'auto',\n",
      " 'max_leaf_nodes': None,\n",
      " 'max_samples': None,\n",
      " 'min_impurity_decrease': 0.0,\n",
      " 'min_impurity_split': None,\n",
      " 'min_samples_leaf': 1,\n",
      " 'min_samples_split': 2,\n",
      " 'min_weight_fraction_leaf': 0.0,\n",
      " 'n_estimators': 50,\n",
      " 'n_jobs': -1,\n",
      " 'oob_score': True,\n",
      " 'random_state': 42,\n",
      " 'verbose': 0,\n",
      " 'warm_start': False}\n"
     ]
    }
   ],
   "source": [
    "from pprint import pprint\n",
    "print('Parameters currently in use:\\n')\n",
    "pprint(rfr.get_params())"
   ]
  },
  {
   "cell_type": "code",
   "execution_count": 43,
   "metadata": {},
   "outputs": [],
   "source": [
    "from sklearn.model_selection import RandomizedSearchCV"
   ]
  },
  {
   "cell_type": "code",
   "execution_count": 44,
   "metadata": {},
   "outputs": [],
   "source": [
    "params = {'max_depth': [10, 20, 30, 40, None],\n",
    "          'n_estimators': [50, 60, 70, 80, 90],\n",
    "         'max_features': ['auto' , 'sqrt'],\n",
    "         'min_samples_leaf': [1, 2, 3],\n",
    "         'min_samples_split': [2, 5, 10],\n",
    "         'oob_score': [True, False]}"
   ]
  },
  {
   "cell_type": "code",
   "execution_count": 45,
   "metadata": {},
   "outputs": [],
   "source": [
    "rfr2 = RandomizedSearchCV(rfr , params , cv=5 , random_state=42)"
   ]
  },
  {
   "cell_type": "code",
   "execution_count": 46,
   "metadata": {},
   "outputs": [
    {
     "data": {
      "text/plain": [
       "RandomizedSearchCV(cv=5, error_score=nan,\n",
       "                   estimator=RandomForestRegressor(bootstrap=True,\n",
       "                                                   ccp_alpha=0.0,\n",
       "                                                   criterion='mse',\n",
       "                                                   max_depth=10,\n",
       "                                                   max_features='auto',\n",
       "                                                   max_leaf_nodes=None,\n",
       "                                                   max_samples=None,\n",
       "                                                   min_impurity_decrease=0.0,\n",
       "                                                   min_impurity_split=None,\n",
       "                                                   min_samples_leaf=1,\n",
       "                                                   min_samples_split=2,\n",
       "                                                   min_weight_fraction_leaf=0.0,\n",
       "                                                   n_estimators=50, n_jobs=-1,\n",
       "                                                   oob_score=True,\n",
       "                                                   rand...\n",
       "                                                   warm_start=False),\n",
       "                   iid='deprecated', n_iter=10, n_jobs=None,\n",
       "                   param_distributions={'max_depth': [10, 20, 30, 40, None],\n",
       "                                        'max_features': ['auto', 'sqrt'],\n",
       "                                        'min_samples_leaf': [1, 2, 3],\n",
       "                                        'min_samples_split': [2, 5, 10],\n",
       "                                        'n_estimators': [50, 60, 70, 80, 90],\n",
       "                                        'oob_score': [True, False]},\n",
       "                   pre_dispatch='2*n_jobs', random_state=42, refit=True,\n",
       "                   return_train_score=False, scoring=None, verbose=0)"
      ]
     },
     "execution_count": 46,
     "metadata": {},
     "output_type": "execute_result"
    }
   ],
   "source": [
    "rfr2.fit(X_train, y_train)"
   ]
  },
  {
   "cell_type": "code",
   "execution_count": 47,
   "metadata": {},
   "outputs": [
    {
     "name": "stdout",
     "output_type": "stream",
     "text": [
      "Mejores parametros: {'oob_score': False, 'n_estimators': 50, 'min_samples_split': 5, 'min_samples_leaf': 1, 'max_features': 'auto', 'max_depth': None}\n",
      "Mejor Score: 0.9005790686520478\n",
      "\n"
     ]
    },
    {
     "data": {
      "text/html": [
       "<div>\n",
       "<style scoped>\n",
       "    .dataframe tbody tr th:only-of-type {\n",
       "        vertical-align: middle;\n",
       "    }\n",
       "\n",
       "    .dataframe tbody tr th {\n",
       "        vertical-align: top;\n",
       "    }\n",
       "\n",
       "    .dataframe thead th {\n",
       "        text-align: right;\n",
       "    }\n",
       "</style>\n",
       "<table border=\"1\" class=\"dataframe\">\n",
       "  <thead>\n",
       "    <tr style=\"text-align: right;\">\n",
       "      <th></th>\n",
       "      <th>mean_fit_time</th>\n",
       "      <th>std_fit_time</th>\n",
       "      <th>mean_score_time</th>\n",
       "      <th>std_score_time</th>\n",
       "      <th>param_oob_score</th>\n",
       "      <th>param_n_estimators</th>\n",
       "      <th>param_min_samples_split</th>\n",
       "      <th>param_min_samples_leaf</th>\n",
       "      <th>param_max_features</th>\n",
       "      <th>param_max_depth</th>\n",
       "      <th>params</th>\n",
       "      <th>split0_test_score</th>\n",
       "      <th>split1_test_score</th>\n",
       "      <th>split2_test_score</th>\n",
       "      <th>split3_test_score</th>\n",
       "      <th>split4_test_score</th>\n",
       "      <th>mean_test_score</th>\n",
       "      <th>std_test_score</th>\n",
       "      <th>rank_test_score</th>\n",
       "    </tr>\n",
       "  </thead>\n",
       "  <tbody>\n",
       "    <tr>\n",
       "      <th>0</th>\n",
       "      <td>2.813771</td>\n",
       "      <td>1.094716</td>\n",
       "      <td>0.034388</td>\n",
       "      <td>0.001972</td>\n",
       "      <td>True</td>\n",
       "      <td>50</td>\n",
       "      <td>5</td>\n",
       "      <td>3</td>\n",
       "      <td>auto</td>\n",
       "      <td>10</td>\n",
       "      <td>{'oob_score': True, 'n_estimators': 50, 'min_s...</td>\n",
       "      <td>0.831640</td>\n",
       "      <td>0.846375</td>\n",
       "      <td>0.849839</td>\n",
       "      <td>0.843082</td>\n",
       "      <td>0.847370</td>\n",
       "      <td>0.843661</td>\n",
       "      <td>0.006390</td>\n",
       "      <td>8</td>\n",
       "    </tr>\n",
       "    <tr>\n",
       "      <th>1</th>\n",
       "      <td>2.045065</td>\n",
       "      <td>0.100693</td>\n",
       "      <td>0.088827</td>\n",
       "      <td>0.005802</td>\n",
       "      <td>False</td>\n",
       "      <td>80</td>\n",
       "      <td>5</td>\n",
       "      <td>1</td>\n",
       "      <td>sqrt</td>\n",
       "      <td>None</td>\n",
       "      <td>{'oob_score': False, 'n_estimators': 80, 'min_...</td>\n",
       "      <td>0.888858</td>\n",
       "      <td>0.897865</td>\n",
       "      <td>0.899091</td>\n",
       "      <td>0.897333</td>\n",
       "      <td>0.897827</td>\n",
       "      <td>0.896195</td>\n",
       "      <td>0.003714</td>\n",
       "      <td>3</td>\n",
       "    </tr>\n",
       "    <tr>\n",
       "      <th>2</th>\n",
       "      <td>2.398382</td>\n",
       "      <td>0.066727</td>\n",
       "      <td>0.047187</td>\n",
       "      <td>0.002993</td>\n",
       "      <td>False</td>\n",
       "      <td>50</td>\n",
       "      <td>10</td>\n",
       "      <td>2</td>\n",
       "      <td>auto</td>\n",
       "      <td>20</td>\n",
       "      <td>{'oob_score': False, 'n_estimators': 50, 'min_...</td>\n",
       "      <td>0.883644</td>\n",
       "      <td>0.894861</td>\n",
       "      <td>0.894451</td>\n",
       "      <td>0.894304</td>\n",
       "      <td>0.893139</td>\n",
       "      <td>0.892080</td>\n",
       "      <td>0.004256</td>\n",
       "      <td>4</td>\n",
       "    </tr>\n",
       "    <tr>\n",
       "      <th>3</th>\n",
       "      <td>5.115105</td>\n",
       "      <td>0.107533</td>\n",
       "      <td>0.085546</td>\n",
       "      <td>0.003515</td>\n",
       "      <td>True</td>\n",
       "      <td>90</td>\n",
       "      <td>5</td>\n",
       "      <td>2</td>\n",
       "      <td>auto</td>\n",
       "      <td>40</td>\n",
       "      <td>{'oob_score': True, 'n_estimators': 90, 'min_s...</td>\n",
       "      <td>0.891431</td>\n",
       "      <td>0.901603</td>\n",
       "      <td>0.901133</td>\n",
       "      <td>0.900647</td>\n",
       "      <td>0.899795</td>\n",
       "      <td>0.898922</td>\n",
       "      <td>0.003793</td>\n",
       "      <td>2</td>\n",
       "    </tr>\n",
       "    <tr>\n",
       "      <th>4</th>\n",
       "      <td>3.099010</td>\n",
       "      <td>0.020356</td>\n",
       "      <td>0.045176</td>\n",
       "      <td>0.001303</td>\n",
       "      <td>False</td>\n",
       "      <td>90</td>\n",
       "      <td>2</td>\n",
       "      <td>2</td>\n",
       "      <td>auto</td>\n",
       "      <td>10</td>\n",
       "      <td>{'oob_score': False, 'n_estimators': 90, 'min_...</td>\n",
       "      <td>0.832452</td>\n",
       "      <td>0.847871</td>\n",
       "      <td>0.850473</td>\n",
       "      <td>0.845485</td>\n",
       "      <td>0.849679</td>\n",
       "      <td>0.845192</td>\n",
       "      <td>0.006597</td>\n",
       "      <td>6</td>\n",
       "    </tr>\n",
       "    <tr>\n",
       "      <th>5</th>\n",
       "      <td>2.667472</td>\n",
       "      <td>0.035731</td>\n",
       "      <td>0.057695</td>\n",
       "      <td>0.009251</td>\n",
       "      <td>False</td>\n",
       "      <td>50</td>\n",
       "      <td>5</td>\n",
       "      <td>1</td>\n",
       "      <td>auto</td>\n",
       "      <td>None</td>\n",
       "      <td>{'oob_score': False, 'n_estimators': 50, 'min_...</td>\n",
       "      <td>0.893706</td>\n",
       "      <td>0.903426</td>\n",
       "      <td>0.902324</td>\n",
       "      <td>0.902807</td>\n",
       "      <td>0.900633</td>\n",
       "      <td>0.900579</td>\n",
       "      <td>0.003560</td>\n",
       "      <td>1</td>\n",
       "    </tr>\n",
       "    <tr>\n",
       "      <th>6</th>\n",
       "      <td>1.826865</td>\n",
       "      <td>0.007972</td>\n",
       "      <td>0.075554</td>\n",
       "      <td>0.003180</td>\n",
       "      <td>False</td>\n",
       "      <td>90</td>\n",
       "      <td>10</td>\n",
       "      <td>1</td>\n",
       "      <td>sqrt</td>\n",
       "      <td>20</td>\n",
       "      <td>{'oob_score': False, 'n_estimators': 90, 'min_...</td>\n",
       "      <td>0.877957</td>\n",
       "      <td>0.889107</td>\n",
       "      <td>0.889611</td>\n",
       "      <td>0.886711</td>\n",
       "      <td>0.887785</td>\n",
       "      <td>0.886234</td>\n",
       "      <td>0.004261</td>\n",
       "      <td>5</td>\n",
       "    </tr>\n",
       "    <tr>\n",
       "      <th>7</th>\n",
       "      <td>0.938940</td>\n",
       "      <td>0.010785</td>\n",
       "      <td>0.028219</td>\n",
       "      <td>0.001010</td>\n",
       "      <td>True</td>\n",
       "      <td>50</td>\n",
       "      <td>10</td>\n",
       "      <td>1</td>\n",
       "      <td>sqrt</td>\n",
       "      <td>10</td>\n",
       "      <td>{'oob_score': True, 'n_estimators': 50, 'min_s...</td>\n",
       "      <td>0.813227</td>\n",
       "      <td>0.827927</td>\n",
       "      <td>0.832038</td>\n",
       "      <td>0.825996</td>\n",
       "      <td>0.828327</td>\n",
       "      <td>0.825503</td>\n",
       "      <td>0.006442</td>\n",
       "      <td>10</td>\n",
       "    </tr>\n",
       "    <tr>\n",
       "      <th>8</th>\n",
       "      <td>2.342932</td>\n",
       "      <td>0.044247</td>\n",
       "      <td>0.035746</td>\n",
       "      <td>0.003788</td>\n",
       "      <td>True</td>\n",
       "      <td>60</td>\n",
       "      <td>5</td>\n",
       "      <td>3</td>\n",
       "      <td>auto</td>\n",
       "      <td>10</td>\n",
       "      <td>{'oob_score': True, 'n_estimators': 60, 'min_s...</td>\n",
       "      <td>0.831808</td>\n",
       "      <td>0.846539</td>\n",
       "      <td>0.850057</td>\n",
       "      <td>0.843558</td>\n",
       "      <td>0.847929</td>\n",
       "      <td>0.843978</td>\n",
       "      <td>0.006441</td>\n",
       "      <td>7</td>\n",
       "    </tr>\n",
       "    <tr>\n",
       "      <th>9</th>\n",
       "      <td>3.062334</td>\n",
       "      <td>0.038328</td>\n",
       "      <td>0.041349</td>\n",
       "      <td>0.002229</td>\n",
       "      <td>True</td>\n",
       "      <td>80</td>\n",
       "      <td>10</td>\n",
       "      <td>3</td>\n",
       "      <td>auto</td>\n",
       "      <td>10</td>\n",
       "      <td>{'oob_score': True, 'n_estimators': 80, 'min_s...</td>\n",
       "      <td>0.830589</td>\n",
       "      <td>0.846274</td>\n",
       "      <td>0.849386</td>\n",
       "      <td>0.843868</td>\n",
       "      <td>0.847786</td>\n",
       "      <td>0.843581</td>\n",
       "      <td>0.006745</td>\n",
       "      <td>9</td>\n",
       "    </tr>\n",
       "  </tbody>\n",
       "</table>\n",
       "</div>"
      ],
      "text/plain": [
       "   mean_fit_time  std_fit_time  mean_score_time  std_score_time  \\\n",
       "0       2.813771      1.094716         0.034388        0.001972   \n",
       "1       2.045065      0.100693         0.088827        0.005802   \n",
       "2       2.398382      0.066727         0.047187        0.002993   \n",
       "3       5.115105      0.107533         0.085546        0.003515   \n",
       "4       3.099010      0.020356         0.045176        0.001303   \n",
       "5       2.667472      0.035731         0.057695        0.009251   \n",
       "6       1.826865      0.007972         0.075554        0.003180   \n",
       "7       0.938940      0.010785         0.028219        0.001010   \n",
       "8       2.342932      0.044247         0.035746        0.003788   \n",
       "9       3.062334      0.038328         0.041349        0.002229   \n",
       "\n",
       "  param_oob_score param_n_estimators param_min_samples_split  \\\n",
       "0            True                 50                       5   \n",
       "1           False                 80                       5   \n",
       "2           False                 50                      10   \n",
       "3            True                 90                       5   \n",
       "4           False                 90                       2   \n",
       "5           False                 50                       5   \n",
       "6           False                 90                      10   \n",
       "7            True                 50                      10   \n",
       "8            True                 60                       5   \n",
       "9            True                 80                      10   \n",
       "\n",
       "  param_min_samples_leaf param_max_features param_max_depth  \\\n",
       "0                      3               auto              10   \n",
       "1                      1               sqrt            None   \n",
       "2                      2               auto              20   \n",
       "3                      2               auto              40   \n",
       "4                      2               auto              10   \n",
       "5                      1               auto            None   \n",
       "6                      1               sqrt              20   \n",
       "7                      1               sqrt              10   \n",
       "8                      3               auto              10   \n",
       "9                      3               auto              10   \n",
       "\n",
       "                                              params  split0_test_score  \\\n",
       "0  {'oob_score': True, 'n_estimators': 50, 'min_s...           0.831640   \n",
       "1  {'oob_score': False, 'n_estimators': 80, 'min_...           0.888858   \n",
       "2  {'oob_score': False, 'n_estimators': 50, 'min_...           0.883644   \n",
       "3  {'oob_score': True, 'n_estimators': 90, 'min_s...           0.891431   \n",
       "4  {'oob_score': False, 'n_estimators': 90, 'min_...           0.832452   \n",
       "5  {'oob_score': False, 'n_estimators': 50, 'min_...           0.893706   \n",
       "6  {'oob_score': False, 'n_estimators': 90, 'min_...           0.877957   \n",
       "7  {'oob_score': True, 'n_estimators': 50, 'min_s...           0.813227   \n",
       "8  {'oob_score': True, 'n_estimators': 60, 'min_s...           0.831808   \n",
       "9  {'oob_score': True, 'n_estimators': 80, 'min_s...           0.830589   \n",
       "\n",
       "   split1_test_score  split2_test_score  split3_test_score  split4_test_score  \\\n",
       "0           0.846375           0.849839           0.843082           0.847370   \n",
       "1           0.897865           0.899091           0.897333           0.897827   \n",
       "2           0.894861           0.894451           0.894304           0.893139   \n",
       "3           0.901603           0.901133           0.900647           0.899795   \n",
       "4           0.847871           0.850473           0.845485           0.849679   \n",
       "5           0.903426           0.902324           0.902807           0.900633   \n",
       "6           0.889107           0.889611           0.886711           0.887785   \n",
       "7           0.827927           0.832038           0.825996           0.828327   \n",
       "8           0.846539           0.850057           0.843558           0.847929   \n",
       "9           0.846274           0.849386           0.843868           0.847786   \n",
       "\n",
       "   mean_test_score  std_test_score  rank_test_score  \n",
       "0         0.843661        0.006390                8  \n",
       "1         0.896195        0.003714                3  \n",
       "2         0.892080        0.004256                4  \n",
       "3         0.898922        0.003793                2  \n",
       "4         0.845192        0.006597                6  \n",
       "5         0.900579        0.003560                1  \n",
       "6         0.886234        0.004261                5  \n",
       "7         0.825503        0.006442               10  \n",
       "8         0.843978        0.006441                7  \n",
       "9         0.843581        0.006745                9  "
      ]
     },
     "execution_count": 47,
     "metadata": {},
     "output_type": "execute_result"
    }
   ],
   "source": [
    "print(\"Mejores parametros: \"+str(rfr2.best_params_))\n",
    "print(\"Mejor Score: \"+str(rfr2.best_score_)+'\\n')\n",
    "\n",
    "scores = pd.DataFrame(rfr2.cv_results_)\n",
    "scores"
   ]
  },
  {
   "cell_type": "code",
   "execution_count": 48,
   "metadata": {},
   "outputs": [
    {
     "data": {
      "text/plain": [
       "RandomForestRegressor(bootstrap=True, ccp_alpha=0.0, criterion='mse',\n",
       "                      max_depth=None, max_features='auto', max_leaf_nodes=None,\n",
       "                      max_samples=None, min_impurity_decrease=0.0,\n",
       "                      min_impurity_split=None, min_samples_leaf=1,\n",
       "                      min_samples_split=5, min_weight_fraction_leaf=0.0,\n",
       "                      n_estimators=50, n_jobs=-1, oob_score=False,\n",
       "                      random_state=42, verbose=0, warm_start=False)"
      ]
     },
     "execution_count": 48,
     "metadata": {},
     "output_type": "execute_result"
    }
   ],
   "source": [
    "#Mejores parametros: {'oob_score': False, 'n_estimators': 50, 'min_samples_split': 5, 'min_samples_leaf': 1, 'max_features': 'auto', 'max_depth': None}\n",
    "\n",
    "rfr3 = RandomForestRegressor(n_estimators = 50, max_depth = None , max_features = 'auto', \n",
    "                             n_jobs = -1 , oob_score = False, random_state = 42 ,\n",
    "                            min_samples_split = 5, min_samples_leaf = 1)\n",
    "rfr3.fit(X_train,y_train)"
   ]
  },
  {
   "cell_type": "code",
   "execution_count": 117,
   "metadata": {},
   "outputs": [
    {
     "name": "stdout",
     "output_type": "stream",
     "text": [
      "Raíz del error cuadrático medio en Train: 12275.82832795628\n",
      "Raíz del error cuadrático medio en Test: 25033.312648323328\n",
      "R2 Score en Train: 0.9779763065377669\n",
      "R2 Score en Test: 0.909478415356081\n"
     ]
    }
   ],
   "source": [
    "y_train_pred_rfr3 = rfr3.predict(X_train)\n",
    "y_test_pred_rfr3 = rfr3.predict(X_test)\n",
    "#print(metrics.accuracy_score(y_train, y_train_pred))\n",
    "#print(metrics.accuracy_score(y_test, y_test_pred))\n",
    "rfr3_rmse_train = np.sqrt(mean_squared_error(y_train, y_train_pred_rfr3))\n",
    "rfr3_rmse_test = np.sqrt(mean_squared_error(y_test, y_test_pred_rfr3))\n",
    "print(f'Raíz del error cuadrático medio en Train: {rfr3_rmse_train}')\n",
    "print(f'Raíz del error cuadrático medio en Test: {rfr3_rmse_test}')\n",
    "rfr3_r2_train = r2_score(y_train,y_train_pred_rfr3)\n",
    "rfr3_r2_test = r2_score(y_test,y_test_pred_rfr3)\n",
    "print('R2 Score en Train:' , rfr3_r2_train)  \n",
    "print('R2 Score en Test:' , rfr3_r2_test)"
   ]
  },
  {
   "cell_type": "markdown",
   "metadata": {},
   "source": [
    "Valores obtenidos previo a la optimización:\n",
    "\n",
    "- RMSE en Train: 29532.431350971965\n",
    "- RMSE en Test: 32326.332397088245\n",
    "- R2 Score en Train: 0.8725361749267183\n",
    "- R2 Score en Test: 0.8490516501702544\n",
    "\n",
    "Podemos observar una mejora en ambas métrica, tanto para Train como para Test.\n",
    "Si bien puede existir un cierto Overfitting dada la diferencia entre el RMSE en Train y en Test, considero que el resultado obtenido es aceptable si tomamos en consideración los resultados obtenidos en la parte A, con modelos más sencillos y sin optimización.\n",
    "A continuación un gráfico, para hacer más visual esta mejora:"
   ]
  },
  {
   "cell_type": "code",
   "execution_count": 119,
   "metadata": {},
   "outputs": [
    {
     "data": {
      "image/png": "[encoded data removed]",
      "text/plain": [
       "<Figure size 720x360 with 1 Axes>"
      ]
     },
     "metadata": {
      "needs_background": "light"
     },
     "output_type": "display_data"
    }
   ],
   "source": [
    "plt.figure(figsize=(10,5))\n",
    "plt.bar(x = 0, height = rfr_rmse_test , label = 'RMSE sin RandomSearchCV' , bottom = 1)\n",
    "plt.bar(x = 1, height = rfr3_rmse_test , label = 'RMSE con RandomSearchCV' , bottom = 1)\n",
    "plt.legend()\n",
    "plt.ylabel('RMSE')\n",
    "plt.xlabel('Modelo')\n",
    "plt.xticks([])\n",
    "plt.show()"
   ]
  },
  {
   "cell_type": "markdown",
   "metadata": {},
   "source": [
    "## XGBoost"
   ]
  },
  {
   "cell_type": "code",
   "execution_count": 77,
   "metadata": {},
   "outputs": [],
   "source": [
    "import xgboost as xgb"
   ]
  },
  {
   "cell_type": "code",
   "execution_count": 78,
   "metadata": {},
   "outputs": [],
   "source": [
    "xgb = xgb.XGBRegressor(random_state = 42)"
   ]
  },
  {
   "cell_type": "code",
   "execution_count": 79,
   "metadata": {},
   "outputs": [
    {
     "data": {
      "text/plain": [
       "XGBRegressor(base_score=0.5, booster='gbtree', colsample_bylevel=1,\n",
       "             colsample_bynode=1, colsample_bytree=1, gamma=0, gpu_id=-1,\n",
       "             importance_type='gain', interaction_constraints='',\n",
       "             learning_rate=0.300000012, max_delta_step=0, max_depth=6,\n",
       "             min_child_weight=1, missing=nan, monotone_constraints='()',\n",
       "             n_estimators=100, n_jobs=0, num_parallel_tree=1,\n",
       "             objective='reg:squarederror', random_state=42, reg_alpha=0,\n",
       "             reg_lambda=1, scale_pos_weight=1, subsample=1, tree_method='exact',\n",
       "             validate_parameters=1, verbosity=None)"
      ]
     },
     "execution_count": 79,
     "metadata": {},
     "output_type": "execute_result"
    }
   ],
   "source": [
    "xgb.fit(X_train, y_train)"
   ]
  },
  {
   "cell_type": "code",
   "execution_count": 80,
   "metadata": {},
   "outputs": [],
   "source": [
    "y_train_pred_xgb = xgb.predict(X_train)\n",
    "y_test_pred_xgb = xgb.predict(X_test)\n"
   ]
  },
  {
   "cell_type": "code",
   "execution_count": 120,
   "metadata": {},
   "outputs": [
    {
     "name": "stdout",
     "output_type": "stream",
     "text": [
      "Raíz del error cuadrático medio en Train: 5285.518250590695\n",
      "Raíz del error cuadrático medio en Test: 23786.25347021809\n",
      "R2 Score en Train: 0.9959171474638153\n",
      "R2 Score en Test: 0.9182726182163193\n"
     ]
    }
   ],
   "source": [
    "xgb_rmse_train = np.sqrt(mean_squared_error(y_train, y_train_pred_xgb))\n",
    "xgb_rmse_test = np.sqrt(mean_squared_error(y_test, y_test_pred_xgb))\n",
    "print(f'Raíz del error cuadrático medio en Train: {xgb_rmse_train}')\n",
    "print(f'Raíz del error cuadrático medio en Test: {xgb_rmse_test}')\n",
    "xgb_r2_train = r2_score(y_train,y_train_pred_xgb)\n",
    "xgb_r2_test = r2_score(y_test,y_test_pred_xgb)\n",
    "print('R2 Score en Train:' , xgb_r2_train)  \n",
    "print('R2 Score en Test:' , xgb_r2_test)"
   ]
  },
  {
   "cell_type": "markdown",
   "metadata": {},
   "source": [
    "Podemos observar que los resultados de un primero modelo de XGBoost presentan un desempeño muy similar al del Random Forest con hiperparámetro optimizados.\n",
    "A continuación realizaremos una validación cruzada y posteriormente la optimización de hiperparámetros."
   ]
  },
  {
   "cell_type": "markdown",
   "metadata": {},
   "source": [
    "#### Optimización de hiperparámetros a través de RandomizedSearchCV"
   ]
  },
  {
   "cell_type": "code",
   "execution_count": 82,
   "metadata": {},
   "outputs": [
    {
     "name": "stdout",
     "output_type": "stream",
     "text": [
      "Parameters currently in use:\n",
      "\n",
      "{'base_score': 0.5,\n",
      " 'booster': 'gbtree',\n",
      " 'colsample_bylevel': 1,\n",
      " 'colsample_bynode': 1,\n",
      " 'colsample_bytree': 1,\n",
      " 'gamma': 0,\n",
      " 'gpu_id': -1,\n",
      " 'importance_type': 'gain',\n",
      " 'interaction_constraints': '',\n",
      " 'learning_rate': 0.300000012,\n",
      " 'max_delta_step': 0,\n",
      " 'max_depth': 6,\n",
      " 'min_child_weight': 1,\n",
      " 'missing': nan,\n",
      " 'monotone_constraints': '()',\n",
      " 'n_estimators': 100,\n",
      " 'n_jobs': 0,\n",
      " 'num_parallel_tree': 1,\n",
      " 'objective': 'reg:squarederror',\n",
      " 'random_state': 42,\n",
      " 'reg_alpha': 0,\n",
      " 'reg_lambda': 1,\n",
      " 'scale_pos_weight': 1,\n",
      " 'subsample': 1,\n",
      " 'tree_method': 'exact',\n",
      " 'validate_parameters': 1,\n",
      " 'verbosity': None}\n"
     ]
    }
   ],
   "source": [
    "from pprint import pprint\n",
    "print('Parameters currently in use:\\n')\n",
    "pprint(xgb.get_params())"
   ]
  },
  {
   "cell_type": "code",
   "execution_count": 83,
   "metadata": {},
   "outputs": [],
   "source": [
    "params = {'n_estimators':[100, 150, 200, 250, 300, 350],\n",
    "              'max_depth':np.arange(5,30),\n",
    "         'learning_rate':[0.1 , 0.15, 0.2, 0.25, 0.3, 0.4],\n",
    "         'min_child_weight':[1, 2, 3],\n",
    "         'colsample_bytree': [0.8 , 0.9 , 1]}"
   ]
  },
  {
   "cell_type": "code",
   "execution_count": 84,
   "metadata": {},
   "outputs": [],
   "source": [
    "xgb2 = RandomizedSearchCV(xgb, params, cv = 5, random_state = 42)"
   ]
  },
  {
   "cell_type": "code",
   "execution_count": 85,
   "metadata": {},
   "outputs": [
    {
     "data": {
      "text/plain": [
       "RandomizedSearchCV(cv=5, error_score=nan,\n",
       "                   estimator=XGBRegressor(base_score=0.5, booster='gbtree',\n",
       "                                          colsample_bylevel=1,\n",
       "                                          colsample_bynode=1,\n",
       "                                          colsample_bytree=1, gamma=0,\n",
       "                                          gpu_id=-1, importance_type='gain',\n",
       "                                          interaction_constraints='',\n",
       "                                          learning_rate=0.300000012,\n",
       "                                          max_delta_step=0, max_depth=6,\n",
       "                                          min_child_weight=1, missing=nan,\n",
       "                                          monotone_constraints='()',\n",
       "                                          n_estimators=100,...\n",
       "                   param_distributions={'colsample_bytree': [0.8, 0.9, 1],\n",
       "                                        'learning_rate': [0.1, 0.15, 0.2, 0.25,\n",
       "                                                          0.3, 0.4],\n",
       "                                        'max_depth': array([ 5,  6,  7,  8,  9, 10, 11, 12, 13, 14, 15, 16, 17, 18, 19, 20, 21,\n",
       "       22, 23, 24, 25, 26, 27, 28, 29]),\n",
       "                                        'min_child_weight': [1, 2, 3],\n",
       "                                        'n_estimators': [100, 150, 200, 250,\n",
       "                                                         300, 350]},\n",
       "                   pre_dispatch='2*n_jobs', random_state=42, refit=True,\n",
       "                   return_train_score=False, scoring=None, verbose=0)"
      ]
     },
     "execution_count": 85,
     "metadata": {},
     "output_type": "execute_result"
    }
   ],
   "source": [
    "xgb2.fit(X_train, y_train)"
   ]
  },
  {
   "cell_type": "code",
   "execution_count": 86,
   "metadata": {},
   "outputs": [
    {
     "name": "stdout",
     "output_type": "stream",
     "text": [
      "Mejores parametros: {'n_estimators': 200, 'min_child_weight': 3, 'max_depth': 27, 'learning_rate': 0.15, 'colsample_bytree': 0.8}\n",
      "Mejor Score: 0.9085347011705688\n",
      "\n"
     ]
    },
    {
     "data": {
      "text/html": [
       "<div>\n",
       "<style scoped>\n",
       "    .dataframe tbody tr th:only-of-type {\n",
       "        vertical-align: middle;\n",
       "    }\n",
       "\n",
       "    .dataframe tbody tr th {\n",
       "        vertical-align: top;\n",
       "    }\n",
       "\n",
       "    .dataframe thead th {\n",
       "        text-align: right;\n",
       "    }\n",
       "</style>\n",
       "<table border=\"1\" class=\"dataframe\">\n",
       "  <thead>\n",
       "    <tr style=\"text-align: right;\">\n",
       "      <th></th>\n",
       "      <th>mean_fit_time</th>\n",
       "      <th>std_fit_time</th>\n",
       "      <th>mean_score_time</th>\n",
       "      <th>std_score_time</th>\n",
       "      <th>param_n_estimators</th>\n",
       "      <th>param_min_child_weight</th>\n",
       "      <th>param_max_depth</th>\n",
       "      <th>param_learning_rate</th>\n",
       "      <th>param_colsample_bytree</th>\n",
       "      <th>params</th>\n",
       "      <th>split0_test_score</th>\n",
       "      <th>split1_test_score</th>\n",
       "      <th>split2_test_score</th>\n",
       "      <th>split3_test_score</th>\n",
       "      <th>split4_test_score</th>\n",
       "      <th>mean_test_score</th>\n",
       "      <th>std_test_score</th>\n",
       "      <th>rank_test_score</th>\n",
       "    </tr>\n",
       "  </thead>\n",
       "  <tbody>\n",
       "    <tr>\n",
       "      <th>0</th>\n",
       "      <td>9.662980</td>\n",
       "      <td>0.167746</td>\n",
       "      <td>0.085578</td>\n",
       "      <td>0.001959</td>\n",
       "      <td>300</td>\n",
       "      <td>3</td>\n",
       "      <td>8</td>\n",
       "      <td>0.3</td>\n",
       "      <td>1</td>\n",
       "      <td>{'n_estimators': 300, 'min_child_weight': 3, '...</td>\n",
       "      <td>0.889024</td>\n",
       "      <td>0.905300</td>\n",
       "      <td>0.899174</td>\n",
       "      <td>0.902344</td>\n",
       "      <td>0.900230</td>\n",
       "      <td>0.899214</td>\n",
       "      <td>0.005508</td>\n",
       "      <td>6</td>\n",
       "    </tr>\n",
       "    <tr>\n",
       "      <th>1</th>\n",
       "      <td>17.377326</td>\n",
       "      <td>0.312844</td>\n",
       "      <td>0.307121</td>\n",
       "      <td>0.018827</td>\n",
       "      <td>150</td>\n",
       "      <td>2</td>\n",
       "      <td>27</td>\n",
       "      <td>0.3</td>\n",
       "      <td>1</td>\n",
       "      <td>{'n_estimators': 150, 'min_child_weight': 2, '...</td>\n",
       "      <td>0.890324</td>\n",
       "      <td>0.902084</td>\n",
       "      <td>0.899291</td>\n",
       "      <td>0.903358</td>\n",
       "      <td>0.897427</td>\n",
       "      <td>0.898497</td>\n",
       "      <td>0.004584</td>\n",
       "      <td>7</td>\n",
       "    </tr>\n",
       "    <tr>\n",
       "      <th>2</th>\n",
       "      <td>20.412532</td>\n",
       "      <td>0.056695</td>\n",
       "      <td>0.401625</td>\n",
       "      <td>0.019782</td>\n",
       "      <td>200</td>\n",
       "      <td>3</td>\n",
       "      <td>27</td>\n",
       "      <td>0.15</td>\n",
       "      <td>0.8</td>\n",
       "      <td>{'n_estimators': 200, 'min_child_weight': 3, '...</td>\n",
       "      <td>0.902198</td>\n",
       "      <td>0.913653</td>\n",
       "      <td>0.908037</td>\n",
       "      <td>0.910461</td>\n",
       "      <td>0.908324</td>\n",
       "      <td>0.908535</td>\n",
       "      <td>0.003751</td>\n",
       "      <td>1</td>\n",
       "    </tr>\n",
       "    <tr>\n",
       "      <th>3</th>\n",
       "      <td>22.841790</td>\n",
       "      <td>0.053147</td>\n",
       "      <td>0.578704</td>\n",
       "      <td>0.019423</td>\n",
       "      <td>200</td>\n",
       "      <td>2</td>\n",
       "      <td>29</td>\n",
       "      <td>0.4</td>\n",
       "      <td>0.9</td>\n",
       "      <td>{'n_estimators': 200, 'min_child_weight': 2, '...</td>\n",
       "      <td>0.887983</td>\n",
       "      <td>0.900499</td>\n",
       "      <td>0.892787</td>\n",
       "      <td>0.899191</td>\n",
       "      <td>0.893941</td>\n",
       "      <td>0.894880</td>\n",
       "      <td>0.004539</td>\n",
       "      <td>10</td>\n",
       "    </tr>\n",
       "    <tr>\n",
       "      <th>4</th>\n",
       "      <td>7.657538</td>\n",
       "      <td>0.095238</td>\n",
       "      <td>0.111167</td>\n",
       "      <td>0.004659</td>\n",
       "      <td>100</td>\n",
       "      <td>2</td>\n",
       "      <td>20</td>\n",
       "      <td>0.4</td>\n",
       "      <td>0.9</td>\n",
       "      <td>{'n_estimators': 100, 'min_child_weight': 2, '...</td>\n",
       "      <td>0.888975</td>\n",
       "      <td>0.901167</td>\n",
       "      <td>0.893882</td>\n",
       "      <td>0.899783</td>\n",
       "      <td>0.897355</td>\n",
       "      <td>0.896232</td>\n",
       "      <td>0.004391</td>\n",
       "      <td>9</td>\n",
       "    </tr>\n",
       "    <tr>\n",
       "      <th>5</th>\n",
       "      <td>10.165372</td>\n",
       "      <td>0.160820</td>\n",
       "      <td>0.149172</td>\n",
       "      <td>0.001606</td>\n",
       "      <td>150</td>\n",
       "      <td>2</td>\n",
       "      <td>18</td>\n",
       "      <td>0.4</td>\n",
       "      <td>0.9</td>\n",
       "      <td>{'n_estimators': 150, 'min_child_weight': 2, '...</td>\n",
       "      <td>0.889343</td>\n",
       "      <td>0.900823</td>\n",
       "      <td>0.894784</td>\n",
       "      <td>0.899635</td>\n",
       "      <td>0.898786</td>\n",
       "      <td>0.896675</td>\n",
       "      <td>0.004189</td>\n",
       "      <td>8</td>\n",
       "    </tr>\n",
       "    <tr>\n",
       "      <th>6</th>\n",
       "      <td>15.372340</td>\n",
       "      <td>0.060325</td>\n",
       "      <td>0.243140</td>\n",
       "      <td>0.019818</td>\n",
       "      <td>300</td>\n",
       "      <td>2</td>\n",
       "      <td>14</td>\n",
       "      <td>0.2</td>\n",
       "      <td>0.9</td>\n",
       "      <td>{'n_estimators': 300, 'min_child_weight': 2, '...</td>\n",
       "      <td>0.898680</td>\n",
       "      <td>0.910410</td>\n",
       "      <td>0.906621</td>\n",
       "      <td>0.908981</td>\n",
       "      <td>0.907257</td>\n",
       "      <td>0.906390</td>\n",
       "      <td>0.004077</td>\n",
       "      <td>3</td>\n",
       "    </tr>\n",
       "    <tr>\n",
       "      <th>7</th>\n",
       "      <td>18.810398</td>\n",
       "      <td>0.149033</td>\n",
       "      <td>0.420746</td>\n",
       "      <td>0.034727</td>\n",
       "      <td>200</td>\n",
       "      <td>3</td>\n",
       "      <td>26</td>\n",
       "      <td>0.1</td>\n",
       "      <td>0.9</td>\n",
       "      <td>{'n_estimators': 200, 'min_child_weight': 3, '...</td>\n",
       "      <td>0.901684</td>\n",
       "      <td>0.911930</td>\n",
       "      <td>0.908573</td>\n",
       "      <td>0.909521</td>\n",
       "      <td>0.907435</td>\n",
       "      <td>0.907829</td>\n",
       "      <td>0.003410</td>\n",
       "      <td>2</td>\n",
       "    </tr>\n",
       "    <tr>\n",
       "      <th>8</th>\n",
       "      <td>29.026486</td>\n",
       "      <td>0.665923</td>\n",
       "      <td>0.645435</td>\n",
       "      <td>0.067989</td>\n",
       "      <td>300</td>\n",
       "      <td>2</td>\n",
       "      <td>23</td>\n",
       "      <td>0.1</td>\n",
       "      <td>1</td>\n",
       "      <td>{'n_estimators': 300, 'min_child_weight': 2, '...</td>\n",
       "      <td>0.896815</td>\n",
       "      <td>0.905520</td>\n",
       "      <td>0.904964</td>\n",
       "      <td>0.908835</td>\n",
       "      <td>0.905276</td>\n",
       "      <td>0.904282</td>\n",
       "      <td>0.003987</td>\n",
       "      <td>4</td>\n",
       "    </tr>\n",
       "    <tr>\n",
       "      <th>9</th>\n",
       "      <td>21.554047</td>\n",
       "      <td>0.187332</td>\n",
       "      <td>0.484264</td>\n",
       "      <td>0.011054</td>\n",
       "      <td>150</td>\n",
       "      <td>1</td>\n",
       "      <td>28</td>\n",
       "      <td>0.15</td>\n",
       "      <td>1</td>\n",
       "      <td>{'n_estimators': 150, 'min_child_weight': 1, '...</td>\n",
       "      <td>0.895998</td>\n",
       "      <td>0.904454</td>\n",
       "      <td>0.903638</td>\n",
       "      <td>0.907060</td>\n",
       "      <td>0.901058</td>\n",
       "      <td>0.902442</td>\n",
       "      <td>0.003748</td>\n",
       "      <td>5</td>\n",
       "    </tr>\n",
       "  </tbody>\n",
       "</table>\n",
       "</div>"
      ],
      "text/plain": [
       "   mean_fit_time  std_fit_time  mean_score_time  std_score_time  \\\n",
       "0       9.662980      0.167746         0.085578        0.001959   \n",
       "1      17.377326      0.312844         0.307121        0.018827   \n",
       "2      20.412532      0.056695         0.401625        0.019782   \n",
       "3      22.841790      0.053147         0.578704        0.019423   \n",
       "4       7.657538      0.095238         0.111167        0.004659   \n",
       "5      10.165372      0.160820         0.149172        0.001606   \n",
       "6      15.372340      0.060325         0.243140        0.019818   \n",
       "7      18.810398      0.149033         0.420746        0.034727   \n",
       "8      29.026486      0.665923         0.645435        0.067989   \n",
       "9      21.554047      0.187332         0.484264        0.011054   \n",
       "\n",
       "  param_n_estimators param_min_child_weight param_max_depth  \\\n",
       "0                300                      3               8   \n",
       "1                150                      2              27   \n",
       "2                200                      3              27   \n",
       "3                200                      2              29   \n",
       "4                100                      2              20   \n",
       "5                150                      2              18   \n",
       "6                300                      2              14   \n",
       "7                200                      3              26   \n",
       "8                300                      2              23   \n",
       "9                150                      1              28   \n",
       "\n",
       "  param_learning_rate param_colsample_bytree  \\\n",
       "0                 0.3                      1   \n",
       "1                 0.3                      1   \n",
       "2                0.15                    0.8   \n",
       "3                 0.4                    0.9   \n",
       "4                 0.4                    0.9   \n",
       "5                 0.4                    0.9   \n",
       "6                 0.2                    0.9   \n",
       "7                 0.1                    0.9   \n",
       "8                 0.1                      1   \n",
       "9                0.15                      1   \n",
       "\n",
       "                                              params  split0_test_score  \\\n",
       "0  {'n_estimators': 300, 'min_child_weight': 3, '...           0.889024   \n",
       "1  {'n_estimators': 150, 'min_child_weight': 2, '...           0.890324   \n",
       "2  {'n_estimators': 200, 'min_child_weight': 3, '...           0.902198   \n",
       "3  {'n_estimators': 200, 'min_child_weight': 2, '...           0.887983   \n",
       "4  {'n_estimators': 100, 'min_child_weight': 2, '...           0.888975   \n",
       "5  {'n_estimators': 150, 'min_child_weight': 2, '...           0.889343   \n",
       "6  {'n_estimators': 300, 'min_child_weight': 2, '...           0.898680   \n",
       "7  {'n_estimators': 200, 'min_child_weight': 3, '...           0.901684   \n",
       "8  {'n_estimators': 300, 'min_child_weight': 2, '...           0.896815   \n",
       "9  {'n_estimators': 150, 'min_child_weight': 1, '...           0.895998   \n",
       "\n",
       "   split1_test_score  split2_test_score  split3_test_score  split4_test_score  \\\n",
       "0           0.905300           0.899174           0.902344           0.900230   \n",
       "1           0.902084           0.899291           0.903358           0.897427   \n",
       "2           0.913653           0.908037           0.910461           0.908324   \n",
       "3           0.900499           0.892787           0.899191           0.893941   \n",
       "4           0.901167           0.893882           0.899783           0.897355   \n",
       "5           0.900823           0.894784           0.899635           0.898786   \n",
       "6           0.910410           0.906621           0.908981           0.907257   \n",
       "7           0.911930           0.908573           0.909521           0.907435   \n",
       "8           0.905520           0.904964           0.908835           0.905276   \n",
       "9           0.904454           0.903638           0.907060           0.901058   \n",
       "\n",
       "   mean_test_score  std_test_score  rank_test_score  \n",
       "0         0.899214        0.005508                6  \n",
       "1         0.898497        0.004584                7  \n",
       "2         0.908535        0.003751                1  \n",
       "3         0.894880        0.004539               10  \n",
       "4         0.896232        0.004391                9  \n",
       "5         0.896675        0.004189                8  \n",
       "6         0.906390        0.004077                3  \n",
       "7         0.907829        0.003410                2  \n",
       "8         0.904282        0.003987                4  \n",
       "9         0.902442        0.003748                5  "
      ]
     },
     "execution_count": 86,
     "metadata": {},
     "output_type": "execute_result"
    }
   ],
   "source": [
    "print(\"Mejores parametros: \"+str(xgb2.best_params_))\n",
    "print(\"Mejor Score: \"+str(xgb2.best_score_)+'\\n')\n",
    "\n",
    "scores = pd.DataFrame(xgb2.cv_results_)\n",
    "scores"
   ]
  },
  {
   "cell_type": "code",
   "execution_count": 87,
   "metadata": {},
   "outputs": [],
   "source": [
    "#Mejores parametros: {'n_estimators': 200, 'min_child_weight': 3, 'max_depth': 27, \n",
    "#'learning_rate': 0.15, 'colsample_bytree': 0.8}\n",
    "\n",
    "import xgboost as xgb\n",
    "xgb3 = xgb.XGBRegressor(n_estimators = 200, max_depth = 27, learning_rate = 0.15, \n",
    "                        colsample_bytree = 0.8, min_child_weight = 3 , random_state = 42)"
   ]
  },
  {
   "cell_type": "code",
   "execution_count": 88,
   "metadata": {},
   "outputs": [
    {
     "data": {
      "text/plain": [
       "XGBRegressor(base_score=0.5, booster='gbtree', colsample_bylevel=1,\n",
       "             colsample_bynode=1, colsample_bytree=0.8, gamma=0, gpu_id=-1,\n",
       "             importance_type='gain', interaction_constraints='',\n",
       "             learning_rate=0.15, max_delta_step=0, max_depth=27,\n",
       "             min_child_weight=3, missing=nan, monotone_constraints='()',\n",
       "             n_estimators=200, n_jobs=0, num_parallel_tree=1,\n",
       "             objective='reg:squarederror', random_state=42, reg_alpha=0,\n",
       "             reg_lambda=1, scale_pos_weight=1, subsample=1, tree_method='exact',\n",
       "             validate_parameters=1, verbosity=None)"
      ]
     },
     "execution_count": 88,
     "metadata": {},
     "output_type": "execute_result"
    }
   ],
   "source": [
    "xgb3.fit(X_train, y_train)"
   ]
  },
  {
   "cell_type": "code",
   "execution_count": 121,
   "metadata": {},
   "outputs": [],
   "source": [
    "y_train_pred_xgb3 = xgb3.predict(X_train)\n",
    "y_test_pred_xgb3 = xgb3.predict(X_test)"
   ]
  },
  {
   "cell_type": "code",
   "execution_count": 122,
   "metadata": {},
   "outputs": [
    {
     "name": "stdout",
     "output_type": "stream",
     "text": [
      "Raíz del error cuadrático medio en Train: 5285.518250590695\n",
      "Raíz del error cuadrático medio en Test: 23786.25347021809\n",
      "R2 Score en Train: 0.9959171474638153\n",
      "R2 Score en Test: 0.9182726182163193\n"
     ]
    }
   ],
   "source": [
    "xgb3_rmse_train = np.sqrt(mean_squared_error(y_train, y_train_pred_xgb3))\n",
    "xgb3_rmse_test = np.sqrt(mean_squared_error(y_test, y_test_pred_xgb3))\n",
    "print(f'Raíz del error cuadrático medio en Train: {xgb3_rmse_train}')\n",
    "print(f'Raíz del error cuadrático medio en Test: {xgb3_rmse_test}')\n",
    "xgb3_r2_train = r2_score(y_train,y_train_pred_xgb3)\n",
    "xgb3_r2_test = r2_score(y_test,y_test_pred_xgb3)\n",
    "print('R2 Score en Train:' , r2_xgb3_train)  \n",
    "print('R2 Score en Test:' , r2_xgb3_test)"
   ]
  },
  {
   "cell_type": "markdown",
   "metadata": {},
   "source": [
    "Los resultados previos a la optimización fueron:\n",
    "\n",
    "- RMSE en Train: 5285.518250590695\n",
    "- RMSE en Test: 23786.25347021809\n",
    "- R2 Score en Train: 0.9959171474638153\n",
    "- R2 Score en Test: 0.9182726182163193\n",
    "\n",
    "No se observa una mejora en el desempeño del modelo después de realizar RandomSearch."
   ]
  },
  {
   "cell_type": "code",
   "execution_count": 125,
   "metadata": {},
   "outputs": [
    {
     "data": {
      "image/png": "[encoded data removed]",
      "text/plain": [
       "<Figure size 720x360 with 1 Axes>"
      ]
     },
     "metadata": {
      "needs_background": "light"
     },
     "output_type": "display_data"
    }
   ],
   "source": [
    "plt.figure(figsize=(10,5))\n",
    "plt.bar(x = 0, height = xgb_rmse_test , label = 'RMSE sin RandomSearchCV' , bottom = 1)\n",
    "plt.bar(x = 1, height = xgb3_rmse_test , label = 'RMSE con RandomSearchCV' , bottom = 1)\n",
    "plt.legend()\n",
    "plt.ylabel('RMSE')\n",
    "plt.xlabel('Modelo')\n",
    "plt.xticks([])\n",
    "plt.show()"
   ]
  },
  {
   "cell_type": "markdown",
   "metadata": {},
   "source": [
    "A continuación podemos plantear una comparación entre el mejor desempeño obtenido con `RandomForest` y el mejor desempeño obtenido con `XGBoost`\n",
    "\n",
    "- RMSE en Train para RandomForest: 12275.82832795628\n",
    "- RMSE en Train para XGBoost: 27742.129221273335\n",
    "\n",
    "\n",
    "- RMSE en Test para RandomForest: 25033.312648323328\n",
    "- RMSE en Test para XGBoost: 32199.927474604992\n",
    "\n",
    "\n",
    "- R2 Score en Train para RandomForest: 0.9779763065377669\n",
    "- R2 Score en Train para XGBoost: 0.9959171474638153\n",
    "\n",
    "\n",
    "- R2 Score en Test para RandomForest: 0.909478415356081\n",
    "- R2 Score en Test para XGBoost: 0.9182726182163193"
   ]
  },
  {
   "cell_type": "code",
   "execution_count": 126,
   "metadata": {},
   "outputs": [
    {
     "data": {
      "image/png": "[encoded data removed]",
      "text/plain": [
       "<Figure size 1080x720 with 1 Axes>"
      ]
     },
     "metadata": {
      "needs_background": "light"
     },
     "output_type": "display_data"
    }
   ],
   "source": [
    "plt.figure(figsize=(15,10))\n",
    "plt.bar(x = 0, height = rfr3_rmse_bar , label = 'RMSE Test RandomForest RandomSearchCV' , bottom = 1)\n",
    "plt.bar(x = 1, height = xgb3_rmse_bar , label = 'RMSE Test XGBoost RandomSearchCV' , bottom = 1)\n",
    "plt.legend()\n",
    "plt.ylabel('RMSE')\n",
    "plt.xlabel('Modelo')\n",
    "plt.xticks([])\n",
    "plt.show()"
   ]
  },
  {
   "cell_type": "markdown",
   "metadata": {},
   "source": [
    "### Parte B - PARTE C - Interpretación de modelos"
   ]
  },
  {
   "cell_type": "markdown",
   "metadata": {},
   "source": [
    "A continuación, mediante `feature_importance` trataré de identificar cuales fueron las variables más relevantes a la hora de predecir:"
   ]
  },
  {
   "cell_type": "markdown",
   "metadata": {},
   "source": [
    "#### Feature importance en Random Forest:"
   ]
  },
  {
   "cell_type": "code",
   "execution_count": 190,
   "metadata": {},
   "outputs": [
    {
     "data": {
      "image/png": "[encoded data removed]",
      "text/plain": [
       "<Figure size 576x288 with 1 Axes>"
      ]
     },
     "metadata": {
      "needs_background": "light"
     },
     "output_type": "display_data"
    }
   ],
   "source": [
    "forest_important_variables = rfr3.feature_importances_\n",
    "columns = X.columns\n",
    "plt.figure(figsize = (8,4))\n",
    "sns.barplot(columns, forest_important_variables)\n",
    "plt.title('Importancia de cada Feature')\n",
    "plt.xticks(rotation = 45)\n",
    "plt.show()"
   ]
  },
  {
   "cell_type": "markdown",
   "metadata": {},
   "source": [
    "#### Feature importance en XGBoost:"
   ]
  },
  {
   "cell_type": "code",
   "execution_count": 191,
   "metadata": {},
   "outputs": [
    {
     "data": {
      "image/png": "[encoded data removed]",
      "text/plain": [
       "<Figure size 576x288 with 1 Axes>"
      ]
     },
     "metadata": {
      "needs_background": "light"
     },
     "output_type": "display_data"
    }
   ],
   "source": [
    "xgboost_important_variables = xgb3.feature_importances_\n",
    "columns = X.columns\n",
    "plt.figure(figsize = (8,4))\n",
    "sns.barplot(columns, xgboost_important_variables)\n",
    "plt.title('Importancia de cada Feature')\n",
    "plt.xticks(rotation = 45)\n",
    "plt.show()"
   ]
  },
  {
   "cell_type": "markdown",
   "metadata": {},
   "source": [
    "#### Distribución de errores - XGBoost"
   ]
  },
  {
   "cell_type": "code",
   "execution_count": 193,
   "metadata": {},
   "outputs": [
    {
     "data": {
      "image/png": "[encoded data removed]",
      "text/plain": [
       "<Figure size 720x432 with 1 Axes>"
      ]
     },
     "metadata": {
      "needs_background": "light"
     },
     "output_type": "display_data"
    }
   ],
   "source": [
    "plt.figure(figsize = (10,6))\n",
    "sns.distplot(y_train - y_train_pred_xgb3, bins = 20, label = 'train')\n",
    "sns.distplot(y_test - y_test_pred_xgb3, bins = 20, label = 'test')\n",
    "plt.xlabel('errores')\n",
    "plt.legend()\n",
    "plt.tight_layout()\n",
    "plt.show()"
   ]
  },
  {
   "cell_type": "markdown",
   "metadata": {},
   "source": [
    "#### Distribución de errores - RandomForest"
   ]
  },
  {
   "cell_type": "code",
   "execution_count": 194,
   "metadata": {},
   "outputs": [
    {
     "data": {
      "image/png": "[encoded data removed]",
      "text/plain": [
       "<Figure size 720x432 with 1 Axes>"
      ]
     },
     "metadata": {
      "needs_background": "light"
     },
     "output_type": "display_data"
    }
   ],
   "source": [
    "plt.figure(figsize = (10,6))\n",
    "sns.distplot(y_train - y_train_pred_rfr3, bins = 20, label = 'train')\n",
    "sns.distplot(y_test - y_test_pred_rfr3, bins = 20, label = 'test')\n",
    "plt.xlabel('errores')\n",
    "plt.legend()\n",
    "plt.tight_layout()\n",
    "plt.show()"
   ]
  },
  {
   "cell_type": "code",
   "execution_count": 195,
   "metadata": {},
   "outputs": [
    {
     "data": {
      "text/html": [
       "<div>\n",
       "<style scoped>\n",
       "    .dataframe tbody tr th:only-of-type {\n",
       "        vertical-align: middle;\n",
       "    }\n",
       "\n",
       "    .dataframe tbody tr th {\n",
       "        vertical-align: top;\n",
       "    }\n",
       "\n",
       "    .dataframe thead th {\n",
       "        text-align: right;\n",
       "    }\n",
       "</style>\n",
       "<table border=\"1\" class=\"dataframe\">\n",
       "  <thead>\n",
       "    <tr style=\"text-align: right;\">\n",
       "      <th></th>\n",
       "      <th>Errores</th>\n",
       "      <th>Propiedad</th>\n",
       "      <th>Barrio</th>\n",
       "    </tr>\n",
       "  </thead>\n",
       "  <tbody>\n",
       "    <tr>\n",
       "      <th>1</th>\n",
       "      <td>NaN</td>\n",
       "      <td>PH</td>\n",
       "      <td>Boedo</td>\n",
       "    </tr>\n",
       "    <tr>\n",
       "      <th>2</th>\n",
       "      <td>NaN</td>\n",
       "      <td>PH</td>\n",
       "      <td>Palermo</td>\n",
       "    </tr>\n",
       "    <tr>\n",
       "      <th>3</th>\n",
       "      <td>76384.203125</td>\n",
       "      <td>PH</td>\n",
       "      <td>Palermo</td>\n",
       "    </tr>\n",
       "    <tr>\n",
       "      <th>5</th>\n",
       "      <td>9996.312500</td>\n",
       "      <td>PH</td>\n",
       "      <td>Villa Crespo</td>\n",
       "    </tr>\n",
       "    <tr>\n",
       "      <th>6</th>\n",
       "      <td>NaN</td>\n",
       "      <td>PH</td>\n",
       "      <td>Villa Crespo</td>\n",
       "    </tr>\n",
       "    <tr>\n",
       "      <th>...</th>\n",
       "      <td>...</td>\n",
       "      <td>...</td>\n",
       "      <td>...</td>\n",
       "    </tr>\n",
       "    <tr>\n",
       "      <th>146543</th>\n",
       "      <td>NaN</td>\n",
       "      <td>Departamento</td>\n",
       "      <td>Palermo</td>\n",
       "    </tr>\n",
       "    <tr>\n",
       "      <th>146544</th>\n",
       "      <td>64742.406250</td>\n",
       "      <td>Departamento</td>\n",
       "      <td>Palermo</td>\n",
       "    </tr>\n",
       "    <tr>\n",
       "      <th>146545</th>\n",
       "      <td>NaN</td>\n",
       "      <td>Departamento</td>\n",
       "      <td>Palermo</td>\n",
       "    </tr>\n",
       "    <tr>\n",
       "      <th>146549</th>\n",
       "      <td>NaN</td>\n",
       "      <td>PH</td>\n",
       "      <td>Palermo</td>\n",
       "    </tr>\n",
       "    <tr>\n",
       "      <th>146557</th>\n",
       "      <td>4612.125000</td>\n",
       "      <td>Departamento</td>\n",
       "      <td>Palermo</td>\n",
       "    </tr>\n",
       "  </tbody>\n",
       "</table>\n",
       "<p>63291 rows × 3 columns</p>\n",
       "</div>"
      ],
      "text/plain": [
       "             Errores     Propiedad        Barrio\n",
       "1                NaN            PH         Boedo\n",
       "2                NaN            PH       Palermo\n",
       "3       76384.203125            PH       Palermo\n",
       "5        9996.312500            PH  Villa Crespo\n",
       "6                NaN            PH  Villa Crespo\n",
       "...              ...           ...           ...\n",
       "146543           NaN  Departamento       Palermo\n",
       "146544  64742.406250  Departamento       Palermo\n",
       "146545           NaN  Departamento       Palermo\n",
       "146549           NaN            PH       Palermo\n",
       "146557   4612.125000  Departamento       Palermo\n",
       "\n",
       "[63291 rows x 3 columns]"
      ]
     },
     "execution_count": 195,
     "metadata": {},
     "output_type": "execute_result"
    }
   ],
   "source": [
    "Errores = {'Errores': y_test - y_test_pred_xgb3 , 'Propiedad': data_properati['property_type'] ,\n",
    "           'Barrio': data_properati['l3']}\n",
    "errores = pd.DataFrame(Errores)\n",
    "errores"
   ]
  },
  {
   "cell_type": "code",
   "execution_count": 196,
   "metadata": {},
   "outputs": [
    {
     "data": {
      "text/plain": [
       "<matplotlib.axes._subplots.AxesSubplot at 0x22489b40790>"
      ]
     },
     "execution_count": 196,
     "metadata": {},
     "output_type": "execute_result"
    },
    {
     "data": {
      "image/png": "[encoded data removed]",
      "text/plain": [
       "<Figure size 432x288 with 1 Axes>"
      ]
     },
     "metadata": {
      "needs_background": "light"
     },
     "output_type": "display_data"
    }
   ],
   "source": [
    "sns.countplot(x = 'Propiedad', data = errores)"
   ]
  },
  {
   "cell_type": "code",
   "execution_count": 197,
   "metadata": {},
   "outputs": [
    {
     "data": {
      "text/plain": [
       "(array([ 0,  1,  2,  3,  4,  5,  6,  7,  8,  9, 10, 11, 12, 13, 14, 15, 16,\n",
       "        17, 18, 19, 20, 21, 22, 23, 24, 25, 26, 27, 28, 29, 30, 31, 32, 33,\n",
       "        34, 35, 36, 37, 38, 39, 40, 41, 42, 43, 44, 45, 46, 47, 48, 49, 50,\n",
       "        51, 52, 53, 54, 55, 56]),\n",
       " <a list of 57 Text xticklabel objects>)"
      ]
     },
     "execution_count": 197,
     "metadata": {},
     "output_type": "execute_result"
    },
    {
     "data": {
      "image/png": "[encoded data removed]",
      "text/plain": [
       "<Figure size 1440x720 with 1 Axes>"
      ]
     },
     "metadata": {
      "needs_background": "light"
     },
     "output_type": "display_data"
    }
   ],
   "source": [
    "plt.figure(figsize = (20,10))\n",
    "sns.countplot(x = 'Barrio', data = errores)\n",
    "plt.xticks(rotation = 90)"
   ]
  },
  {
   "cell_type": "code",
   "execution_count": 198,
   "metadata": {},
   "outputs": [
    {
     "data": {
      "text/html": [
       "<div>\n",
       "<style scoped>\n",
       "    .dataframe tbody tr th:only-of-type {\n",
       "        vertical-align: middle;\n",
       "    }\n",
       "\n",
       "    .dataframe tbody tr th {\n",
       "        vertical-align: top;\n",
       "    }\n",
       "\n",
       "    .dataframe thead th {\n",
       "        text-align: right;\n",
       "    }\n",
       "</style>\n",
       "<table border=\"1\" class=\"dataframe\">\n",
       "  <thead>\n",
       "    <tr style=\"text-align: right;\">\n",
       "      <th></th>\n",
       "      <th>Errores</th>\n",
       "      <th>Propiedad</th>\n",
       "      <th>Barrio</th>\n",
       "    </tr>\n",
       "  </thead>\n",
       "  <tbody>\n",
       "    <tr>\n",
       "      <th>3</th>\n",
       "      <td>76384.203125</td>\n",
       "      <td>PH</td>\n",
       "      <td>Palermo</td>\n",
       "    </tr>\n",
       "    <tr>\n",
       "      <th>5</th>\n",
       "      <td>9996.312500</td>\n",
       "      <td>PH</td>\n",
       "      <td>Villa Crespo</td>\n",
       "    </tr>\n",
       "    <tr>\n",
       "      <th>7</th>\n",
       "      <td>53.687500</td>\n",
       "      <td>PH</td>\n",
       "      <td>Villa Crespo</td>\n",
       "    </tr>\n",
       "    <tr>\n",
       "      <th>10</th>\n",
       "      <td>-23.000000</td>\n",
       "      <td>PH</td>\n",
       "      <td>Villa Pueyrredón</td>\n",
       "    </tr>\n",
       "    <tr>\n",
       "      <th>20</th>\n",
       "      <td>1005.750000</td>\n",
       "      <td>Departamento</td>\n",
       "      <td>Abasto</td>\n",
       "    </tr>\n",
       "    <tr>\n",
       "      <th>...</th>\n",
       "      <td>...</td>\n",
       "      <td>...</td>\n",
       "      <td>...</td>\n",
       "    </tr>\n",
       "    <tr>\n",
       "      <th>146534</th>\n",
       "      <td>3540.250000</td>\n",
       "      <td>Departamento</td>\n",
       "      <td>Palermo</td>\n",
       "    </tr>\n",
       "    <tr>\n",
       "      <th>146537</th>\n",
       "      <td>5021.062500</td>\n",
       "      <td>Departamento</td>\n",
       "      <td>Palermo</td>\n",
       "    </tr>\n",
       "    <tr>\n",
       "      <th>146540</th>\n",
       "      <td>-50798.375000</td>\n",
       "      <td>Departamento</td>\n",
       "      <td>Palermo</td>\n",
       "    </tr>\n",
       "    <tr>\n",
       "      <th>146544</th>\n",
       "      <td>64742.406250</td>\n",
       "      <td>Departamento</td>\n",
       "      <td>Palermo</td>\n",
       "    </tr>\n",
       "    <tr>\n",
       "      <th>146557</th>\n",
       "      <td>4612.125000</td>\n",
       "      <td>Departamento</td>\n",
       "      <td>Palermo</td>\n",
       "    </tr>\n",
       "  </tbody>\n",
       "</table>\n",
       "<p>18988 rows × 3 columns</p>\n",
       "</div>"
      ],
      "text/plain": [
       "             Errores     Propiedad            Barrio\n",
       "3       76384.203125            PH           Palermo\n",
       "5        9996.312500            PH      Villa Crespo\n",
       "7          53.687500            PH      Villa Crespo\n",
       "10        -23.000000            PH  Villa Pueyrredón\n",
       "20       1005.750000  Departamento            Abasto\n",
       "...              ...           ...               ...\n",
       "146534   3540.250000  Departamento           Palermo\n",
       "146537   5021.062500  Departamento           Palermo\n",
       "146540 -50798.375000  Departamento           Palermo\n",
       "146544  64742.406250  Departamento           Palermo\n",
       "146557   4612.125000  Departamento           Palermo\n",
       "\n",
       "[18988 rows x 3 columns]"
      ]
     },
     "execution_count": 198,
     "metadata": {},
     "output_type": "execute_result"
    }
   ],
   "source": [
    "errores = errores.dropna()\n",
    "errores"
   ]
  },
  {
   "cell_type": "code",
   "execution_count": 199,
   "metadata": {},
   "outputs": [
    {
     "data": {
      "text/plain": [
       "<matplotlib.axes._subplots.AxesSubplot at 0x2248d77a700>"
      ]
     },
     "execution_count": 199,
     "metadata": {},
     "output_type": "execute_result"
    },
    {
     "data": {
      "image/png": "[encoded data removed]",
      "text/plain": [
       "<Figure size 432x288 with 1 Axes>"
      ]
     },
     "metadata": {
      "needs_background": "light"
     },
     "output_type": "display_data"
    }
   ],
   "source": [
    "sns.countplot(x = 'Propiedad', data = errores)"
   ]
  },
  {
   "cell_type": "code",
   "execution_count": 200,
   "metadata": {},
   "outputs": [
    {
     "data": {
      "text/plain": [
       "(array([ 0,  1,  2,  3,  4,  5,  6,  7,  8,  9, 10, 11, 12, 13, 14, 15, 16,\n",
       "        17, 18, 19, 20, 21, 22, 23, 24, 25, 26, 27, 28, 29, 30, 31, 32, 33,\n",
       "        34, 35, 36, 37, 38, 39, 40, 41, 42, 43, 44, 45, 46, 47, 48, 49, 50,\n",
       "        51, 52, 53, 54, 55, 56]),\n",
       " <a list of 57 Text xticklabel objects>)"
      ]
     },
     "execution_count": 200,
     "metadata": {},
     "output_type": "execute_result"
    },
    {
     "data": {
      "image/png": "[encoded data removed]",
      "text/plain": [
       "<Figure size 1440x720 with 1 Axes>"
      ]
     },
     "metadata": {
      "needs_background": "light"
     },
     "output_type": "display_data"
    }
   ],
   "source": [
    "plt.figure(figsize = (20,10))\n",
    "sns.countplot(x = 'Barrio', data = errores)\n",
    "plt.xticks(rotation = 90)"
   ]
  },
  {
   "cell_type": "markdown",
   "metadata": {},
   "source": [
    "Analizando los errores predichos por XGBoost a nivel de los tipos de propiedad o de los barrios, podemos llegar a inferir a partir de los gráficos que la mayor cantidad de errores se dan en los tipos de propiedad o barrios que tienen mayor cantidad de instancias, lo que me lleva a inducir que no hay en estas dos variables algo que explique los errores del modelo."
   ]
  },
  {
   "cell_type": "markdown",
   "metadata": {},
   "source": [
    "### Conclusiones - Errores - Puntos a mejorar"
   ]
  },
  {
   "cell_type": "markdown",
   "metadata": {},
   "source": [
    "A partir de lo observado en los gráficos planteados arriba, podemos ver que mientras para el modelo de RandomForest las variables más relevantes fueron principalmente *surface_total* y *surface_covered* y en menor medida *lat* , *lon* y *bathrooms*.\n",
    "Mientras que para el modelo de XGBoost las variables más relevantes fueron *bathrooms* y *surface_total* y en menor medida *rooms* y *surface_covered*\n",
    "\n",
    "Las variables más importantes para RandomForest fueron las esperadas, de acuerdo a lo trabajado en modelos más simples y en el Proyecto 1. Pensar que la superficie y la ubicación de un inmueble determinan su precio es de esperar.\n",
    "\n",
    "Por otro lado, para XGBoost los resultados fueron un poco sorpresivos. La importancia de *bathrooms* la asocio a que inmuebles con una gran cantidad de baños necesariamente tienen una gran cantidad de m2, lo cual suena lógico. Pero que la importancia de que las variables que determinan la ubicación del inmueble sea tan baja llama la atención, no solo por ser variables que presentaron una marcada importancia a lo largo del Proyecto 1 y el trabajo realizado en este proyecto también, sino porque llevado a la realidad la ubicación tiene gran implicancia en el precio de un inmueble.\n",
    "\n",
    "Si bien los modelos planteados en este proyecto logran una mejora en el desempeño con respecto a los modelos del Proyecto 1, hay algunos aspectos a mejorar.\n",
    "\n",
    "Por un lado, considero que todavía hay espacio para mejorar aún más en el AED, puntualmente en la *eliminación de outliers* y en *imputación de valores faltantes*, donde creo que una imputación de valores faltantes en *lat y lon* en lugar de elminiación podría resultar en un mejor desempeño para el modelo de RandomForest.\n",
    "\n",
    "Otro punto que podría lograr mejores resultados es el uso de `GridSearch` en lugar de `RandomSearch`, aunque a un costo computacional más elevado.\n",
    "\n",
    "Otros aspecto a resaltar es que el RandomSearch utilizado en el modelo de XGBoost, genera un costo computacional elevado que no genera mejora alguna en el desempeño del modelo. Optimizar menos o distintos hiperparámetros podría generar mejores resultados o con un costo menor.\n",
    "\n",
    "Cabe mencionar que si bien ha habido una mejora en test desde los modelos más básicos, e incluso de RandomForest a XGBoost, un aspecto que todavía tiene espacio para mejoras es el overfitting obtenido con los modelos planteados."
   ]
  }
 ],
 "metadata": {
  "kernelspec": {
   "display_name": "Python 3",
   "language": "python",
   "name": "python3"
  },
  "language_info": {
   "codemirror_mode": {
    "name": "ipython",
    "version": 3
   },
   "file_extension": ".py",
   "mimetype": "text/x-python",
   "name": "python",
   "nbconvert_exporter": "python",
   "pygments_lexer": "ipython3",
   "version": "3.8.5"
  }
 },
 "nbformat": 4,
 "nbformat_minor": 4
}
